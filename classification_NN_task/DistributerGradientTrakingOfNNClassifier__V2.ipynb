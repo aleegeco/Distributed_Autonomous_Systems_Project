{
 "cells": [
  {
   "cell_type": "code",
   "execution_count": 7,
   "id": "e66499f0",
   "metadata": {
    "pycharm": {
     "name": "#%%\n"
    }
   },
   "outputs": [],
   "source": [
    "##############################################################\n",
    "#  WARNING, EXECUTE THIS LINE BEFORE EXECUTING ANY ROS CODE  #\n",
    "#                                                            #\n",
    "#             source opt/ros/foxy/setup.bash                 #\n",
    "#                                                            #\n",
    "##############################################################"
   ]
  },
  {
   "cell_type": "code",
   "execution_count": 10,
   "id": "7e4164ba",
   "metadata": {
    "pycharm": {
     "name": "#%%\n"
    }
   },
   "outputs": [
    {
     "ename": "ModuleNotFoundError",
     "evalue": "No module named 'tensorflow'",
     "output_type": "error",
     "traceback": [
      "\u001B[0;31m---------------------------------------------------------------------------\u001B[0m",
      "\u001B[0;31mModuleNotFoundError\u001B[0m                       Traceback (most recent call last)",
      "Input \u001B[0;32mIn [10]\u001B[0m, in \u001B[0;36m<cell line: 4>\u001B[0;34m()\u001B[0m\n\u001B[1;32m      1\u001B[0m \u001B[38;5;66;03m#                                IMPORTING ALL THE LIBRARIES I NEED\u001B[39;00m\n\u001B[1;32m      3\u001B[0m \u001B[38;5;28;01mfrom\u001B[39;00m \u001B[38;5;21;01m__future__\u001B[39;00m \u001B[38;5;28;01mimport\u001B[39;00m absolute_import, division, print_function\u001B[38;5;66;03m# need to undestend their utility <-------- UNKNOWN\u001B[39;00m\n\u001B[0;32m----> 4\u001B[0m \u001B[38;5;28;01mimport\u001B[39;00m \u001B[38;5;21;01mtensorflow\u001B[39;00m \u001B[38;5;28;01mas\u001B[39;00m \u001B[38;5;21;01mtf\u001B[39;00m\n\u001B[1;32m      5\u001B[0m \u001B[38;5;28;01mimport\u001B[39;00m \u001B[38;5;21;01mkeras\u001B[39;00m\u001B[38;5;66;03m# dont import keras ftom tensorflow library otherwise the code below will fail\u001B[39;00m\n\u001B[1;32m      6\u001B[0m \u001B[38;5;28;01mfrom\u001B[39;00m \u001B[38;5;21;01msklearn\u001B[39;00m\u001B[38;5;21;01m.\u001B[39;00m\u001B[38;5;21;01mmodel_selection\u001B[39;00m \u001B[38;5;28;01mimport\u001B[39;00m train_test_split\n",
      "\u001B[0;31mModuleNotFoundError\u001B[0m: No module named 'tensorflow'"
     ]
    }
   ],
   "source": [
    "#                                IMPORTING ALL THE LIBRARIES I NEED\n",
    "\n",
    "from __future__ import absolute_import, division, print_function# need to undestend their utility <-------- UNKNOWN\n",
    "import tensorflow as tf\n",
    "import keras# dont import keras ftom tensorflow library otherwise the code below will fail\n",
    "from sklearn.model_selection import train_test_split\n",
    "import numpy as np\n",
    "from keras_visualizer import visualizer# used to visualize the neural network <-------------------- MORE INFORMATION\n",
    "from tensorflow.keras.utils import plot_model# used to plot the neural network model <------------------MORE INFO\n",
    "import matplotlib.pyplot as plt# this library will be used for data visualization\n",
    "import networkx as nx# library for network creation/visualization/manipulation\n",
    "np.random.seed(0)\n",
    "\n",
    "try:\n",
    "    import tqdm# import trange# used for progress bar visualization\n",
    "except:\n",
    "    print(\"\\n\\n ATTENZIONE, TI MANCA LA LIBRERIA tqdm PER LA VISUALIZZAZIONE DEL \\\n",
    "    PROGRESSO NEI CICLI FOR. PER INSTALLARLA DIGITA 'sudo pip3 install tqdm'\")\n",
    "\n",
    "TestSize = 0.1# size of the test set\n",
    "\n",
    "percent = 0.8# percentage of data we want to give to our system from all the data aveilable\n",
    "# we start to take them from the start of the dataset , one after one)\n",
    "\n",
    "LukyNumber = 4# the number that in this session will be associated to 1 while the others will be set to 0\n",
    "# (we set all the other numbers to zero becouse otherwise the neural network behave incorrectly with thos libraries)\n"
   ]
  },
  {
   "cell_type": "code",
   "execution_count": null,
   "id": "095b0383",
   "metadata": {
    "pycharm": {
     "name": "#%%\n"
    }
   },
   "outputs": [],
   "source": [
    "#                                  Generate Network Bynomial Graph\n",
    "\n",
    "NN = 7\n",
    "I_NN = np.identity(NN, dtype=int)# identity matrix ?\n",
    "p_ER = 0.3# probability that that node is connected to another node\n",
    "while 1:\n",
    "    Adj = np.random.binomial(1, p_ER, (NN,NN))# create a NN x NN matrix with random connections\n",
    "    Adj = np.logical_or(Adj,Adj.T)# makes it symmetric\n",
    "    Adj = np.multiply(Adj,np.logical_not(I_NN)).astype(int)# removes the element on the diagonal\n",
    "\n",
    "    test = np.linalg.matrix_power((I_NN+Adj),NN)# necessary condition to check if the graph is connected\n",
    "    \n",
    "    if np.all(test>0):# here he tests if the matrix that he created is connected\n",
    "        print(\"Congratulation, the graph is connected.\")\n",
    "        break \n",
    "    else:\n",
    "        print(\"Warning, the graph is NOT connected.\")\n",
    "        quit()"
   ]
  },
  {
   "cell_type": "code",
   "execution_count": null,
   "id": "fdf98d24",
   "metadata": {
    "pycharm": {
     "name": "#%%\n"
    }
   },
   "outputs": [],
   "source": [
    "#                                       Compute mixing matrices\n",
    "#                     Metropolis-Hastings method to obtain a doubly-stochastic matrix\n",
    "\n",
    "WW = np.zeros((NN,NN))\n",
    "\n",
    "for ii in range(NN):\n",
    "    N_ii = np.nonzero(Adj[ii])[0] # In-Neighbors of node i\n",
    "    deg_ii = len(N_ii)\n",
    "\n",
    "    for jj in N_ii:\n",
    "        N_jj = np.nonzero(Adj[jj])[0] # In-Neighbors of node j\n",
    "        # deg_jj = len(N_jj)\n",
    "        deg_jj = N_jj.shape[0]\n",
    "\n",
    "        WW[ii,jj] = 1/(1+max( [deg_ii,deg_jj] ))\n",
    "        # WW[ii,jj] = 1/(1+np.max(np.stack((deg_ii,deg_jj)) ))\n",
    "\n",
    "WW += I_NN - np.diag(np.sum(WW,axis=0))\n",
    "    \n",
    "with np.printoptions(precision=4, suppress=True):\n",
    "    print('Check Stochasticity\\n row:    {} \\n column: {}'.format(\n",
    "      np.sum(WW,axis=1),\n",
    "        np.sum(WW,axis=0)\n",
    "    ))"
   ]
  },
  {
   "cell_type": "code",
   "execution_count": null,
   "id": "0875da4e",
   "metadata": {
    "pycharm": {
     "name": "#%%\n"
    }
   },
   "outputs": [],
   "source": [
    "#                        I want to see how the Adjacency matrix look like\n",
    "\n",
    "plt.imshow(Adj, cmap=plt.cm.binary)\n",
    "plt.xlabel(\"Ciao Andrea\")\n",
    "plt.colorbar()\n",
    "plt.show()"
   ]
  },
  {
   "cell_type": "code",
   "execution_count": null,
   "id": "a197206f",
   "metadata": {
    "pycharm": {
     "name": "#%%\n"
    }
   },
   "outputs": [],
   "source": [
    "#                     I want to see how the weighted Adjacency matrix look like\n",
    "\n",
    "plt.imshow(WW, cmap=plt.cm.binary)\n",
    "plt.xlabel(\"Ciao Andrea\")\n",
    "plt.colorbar()\n",
    "plt.show()"
   ]
  },
  {
   "cell_type": "code",
   "execution_count": null,
   "id": "f00cdb4b",
   "metadata": {
    "pycharm": {
     "name": "#%%\n"
    }
   },
   "outputs": [],
   "source": [
    "#                                Drawing of the graph\n",
    "\n",
    "G = nx.Graph()# initialization of the object \n",
    "#G.add_node(0)\n",
    "G.add_nodes_from([x for x in range(NN)])# creation of the nodes list\n",
    "#G.add_edge(0, 3)\n",
    "ListEdges = []\n",
    "for i in range(NN):\n",
    "    for j in range(NN):\n",
    "        if Adj[i][j] == 1:\n",
    "            ListEdges.append((i, j))\n",
    "            \n",
    "G.add_edges_from(ListEdges)\n",
    "\n",
    "A = nx.adjacency_matrix(G)\n",
    "print('A = ',A.toarray())\n",
    "\n",
    "nx.draw(G, with_labels=True, font_weight='bold', node_color= 'orange', node_size= 800)"
   ]
  },
  {
   "cell_type": "code",
   "execution_count": null,
   "id": "0296bf49",
   "metadata": {
    "pycharm": {
     "name": "#%%\n"
    }
   },
   "outputs": [],
   "source": [
    "#                              Data acquisition and processing\n",
    "(x_train, y_train), (x_test, y_test) = keras.datasets.mnist.load_data()\n",
    "# import the dataset \"mnist\" that contains all the images of the numbers\n",
    "# and relatives labels and then assign all those data to two sets ( training set and test set )\n",
    "\n",
    "# adjusting the type of the data contained in the arrays in this way they can be also negative( maybe now it is usless)\n",
    "y_train = y_train.astype(np.int8)\n",
    "y_test = y_test.astype(np.int8)\n",
    "\n",
    "# i have to scale the brightness of each pixel becouse otherwise i saturate the activation function\n",
    "#(a wise man told me)\n",
    "x_train = x_train/255\n",
    "x_test = x_test/255"
   ]
  },
  {
   "cell_type": "code",
   "execution_count": null,
   "id": "e3ec0302",
   "metadata": {
    "pycharm": {
     "name": "#%%\n"
    }
   },
   "outputs": [],
   "source": [
    "#               I want to see some information about my data and they format\n",
    "\n",
    "print(type(x_train))# return the typology of our data set of images\n",
    "print(len(x_train))# retunr the lenth of the data set ( how much images we have )\n",
    "print(np.shape(x_train))# return the shape of the data set, in our case we have the\n",
    "# lenth and then the dimensions of the images\n",
    "\n",
    "print(type(x_test))# return the typology of our training set of images\n",
    "print(len(x_test))# retunr the lenth of the training set ( how much images we have )\n",
    "print(np.shape(x_test))# return the shape of the training set, in our case we have the\n",
    "# lenth and then the dimensions of the images\n",
    "\n",
    "#print(dir(np))\n",
    "#print(help(np.concatenate))"
   ]
  },
  {
   "cell_type": "code",
   "execution_count": null,
   "id": "79d59547",
   "metadata": {
    "pycharm": {
     "name": "#%%\n"
    }
   },
   "outputs": [],
   "source": [
    "#                           Merging of training set and data set\n",
    "\n",
    "x_total_temp = np.append(x_train, x_test, axis=0)# CHECK IF THE PARTS ARE APPENDED CORRECTLY <------------- WARNING\n",
    "print(\"Shape of x_total_temp: {0}\".format(np.shape(x_total_temp)))\n",
    "\n",
    "x_total = x_total_temp[0: int(np.shape(x_total_temp)[0]*percent)]\n",
    "print(\"Shape of x_total reduced to {1}: {0}\".format(np.shape(x_total), percent))\n",
    "\n",
    "y_total_temp = np.append(y_train, y_test, axis=0)# CHECK IF THE PARTS ARE APPENDED CORRECTLY <------------- WARNING\n",
    "print(\"Shape of y_total_temp: {0}\".format(np.shape(y_total_temp)))\n",
    "\n",
    "y_total = y_total_temp[0: int(np.shape(y_total_temp)[0]*percent)]\n",
    "print(\"Shape of y_total reduced to {1}: {0}\".format(np.shape(y_total), percent))"
   ]
  },
  {
   "cell_type": "code",
   "execution_count": null,
   "id": "bb2e03cd",
   "metadata": {
    "pycharm": {
     "name": "#%%\n"
    }
   },
   "outputs": [],
   "source": [
    "#                Random redistribution of the data in two sets ( test and train)\n",
    "\n",
    "x_train, x_test, y_train, y_test = train_test_split(x_total, y_total, test_size=TestSize)"
   ]
  },
  {
   "cell_type": "code",
   "execution_count": null,
   "id": "0aa0e179",
   "metadata": {
    "pycharm": {
     "name": "#%%\n"
    }
   },
   "outputs": [],
   "source": [
    "#                      Reassignment of the labels according to the requirements [1, -1]\n",
    "\n",
    "# REWRITE THE CODE BECAUSE IT ISNT EFFISCENT ENOUGH (nested for loops or something else)\n",
    "\n",
    "for i in range(0, np.shape(y_train)[0]):# <-------------------------------------------------- WARNING (use iterator)\n",
    "    if y_train[i] == LukyNumber:\n",
    "        y_train[i] = 1\n",
    "    else:\n",
    "        y_train[i] = -1\n",
    "        \n",
    "for i in range(0, np.shape(y_test)[0]):# <-------------------------------------------------- WARNING (use iterator)\n",
    "    if y_test[i] == LukyNumber:\n",
    "        y_test[i] = 1\n",
    "    else:\n",
    "        y_test[i] = -1\n",
    "#print(y_test.dtype)"
   ]
  },
  {
   "cell_type": "code",
   "execution_count": null,
   "id": "8ca185f8",
   "metadata": {
    "pycharm": {
     "name": "#%%\n"
    }
   },
   "outputs": [],
   "source": [
    "#                               TEST TO SEE THE SHAPE OF THE DATA\n",
    "\n",
    "print(\"Lenth of y_train : {}\\n\".format(len(y_train)))\n",
    "print(\"Shape of y_train : {}\\n\".format(np.shape(y_train)))\n",
    "print(\"y_training : {}\\n\".format(y_train))\n",
    "\n",
    "print(\"Lenth of y_test : {}\\n\".format(len(y_test)))\n",
    "print(\"Shape of y_test : {}\\n\".format(np.shape(y_test)))\n",
    "print(\"y_test : {}\\n\".format(y_test))\n",
    "\n",
    "#                               I WANT TO SEE THE SHAPE OF PICTURES\n",
    "\n",
    "print(\"Lenth of x_train : {}\\n\".format(len(x_train)))\n",
    "print(\"Shape of x_train : {}\\n\".format(np.shape(x_train)))\n",
    "print(\"x_train : {}\\n\".format(x_train))\n",
    "\n",
    "print(\"Lenth of x_test : {}\\n\".format(len(x_test)))\n",
    "print(\"Shape of x_test : {}\\n\".format(np.shape(x_test)))\n",
    "print(\"x_test : {}\\n\".format(x_test))"
   ]
  },
  {
   "cell_type": "code",
   "execution_count": null,
   "id": "bea2d31b",
   "metadata": {
    "pycharm": {
     "name": "#%%\n"
    }
   },
   "outputs": [],
   "source": [
    "# display the first 25 training images with labels and verify that the data is in the correct formate.\n",
    "\n",
    "plt.figure(figsize=(10,10))# <--------------------------------------------------------------------------- UNKNOWN\n",
    "for i in range(25):# i want to plot 25 images\n",
    "    plt.subplot(5,5,i+1)# the letter \"i\" rappresent the position \n",
    "    plt.xticks([])# <------------------------------------------------------------------------------------ UNKNOWN\n",
    "    plt.yticks([])\n",
    "    plt.grid(False)# in this way i will not have the grid in on the images\n",
    "    plt.imshow(x_train[i], cmap=plt.cm.binary)# load the image and make it show black and white\n",
    "    plt.xlabel(y_train[i])# add the lable associated to that image under it\n",
    "plt.show()# show all the images"
   ]
  },
  {
   "cell_type": "code",
   "execution_count": null,
   "id": "7fd698f0",
   "metadata": {
    "pycharm": {
     "name": "#%%\n"
    }
   },
   "outputs": [],
   "source": [
    "# HERE I RESHAPE THE IMAGES FROM A MATRIX TO A VECTOR MANTAINING THE DATA CONTENT\n",
    "\n",
    "SrecchedDatasetX = np.reshape(x_train, (np.shape(x_train)[0], 784))# the dataset has 11200 elements, you have to make this part of code more general\n",
    "\n",
    "# TEST TO SEE THE SHAPE OF THE DATA\n",
    "print(\"Lenth of y_training : {}\\n\".format(len(y_train)))\n",
    "print(\"Shape of y_training : {}\\n\".format(np.shape(y_train)))\n",
    "print(\"y_training : {}\\n\".format(y_train))\n",
    "\n",
    "# I WANT TO SEE THE SHAPE OF PICTURES\n",
    "print(\"Lenth of x_training : {}\\n\".format(len(SrecchedDatasetX)))\n",
    "print(\"Shape of x_training : {}\\n\".format(np.shape(SrecchedDatasetX)))\n",
    "print(\"x_training : {}\\n\".format(SrecchedDatasetX))"
   ]
  },
  {
   "cell_type": "code",
   "execution_count": null,
   "id": "73a79b08",
   "metadata": {
    "pycharm": {
     "name": "#%%\n"
    }
   },
   "outputs": [],
   "source": [
    "# HERE I TEST THE CONVERSION GOING BACKWARD (CHEKING IF THE IMAGE IS CORRECT)\n",
    "#print(SrecchedDatasetX[1])\n",
    "mm = 300\n",
    "prova = np.reshape(SrecchedDatasetX[mm], (28, 28))# here at index you can put whatewer number you wish to see if the conversion went correctly\n",
    "plt.matshow(prova)\n",
    "plt.xlabel(y_train[mm])\n",
    "plt.show()"
   ]
  },
  {
   "cell_type": "code",
   "execution_count": null,
   "id": "c1f4f77d",
   "metadata": {
    "pycharm": {
     "name": "#%%\n"
    }
   },
   "outputs": [],
   "source": [
    "ZeroVector = np.zeros(784+1)# vector of zeros which will be used in the future"
   ]
  },
  {
   "cell_type": "code",
   "execution_count": null,
   "id": "876bfc3b",
   "metadata": {
    "pycharm": {
     "name": "#%%\n"
    }
   },
   "outputs": [],
   "source": [
    "# function that returns the average of a sequence of numbers\n",
    "def moving_average(a, n=64) :\n",
    "    ret = np.cumsum(a, dtype=float)\n",
    "    ret[n:] = ret[n:] - ret[:-n]\n",
    "    return ret[n - 1:] / n"
   ]
  },
  {
   "cell_type": "code",
   "execution_count": null,
   "id": "08ef4b1d",
   "metadata": {
    "pycharm": {
     "name": "#%%\n"
    }
   },
   "outputs": [],
   "source": [
    "# here i will redistribute the data in equal sets from lable point of wiew\n",
    "\n",
    "print(\"Shape of y_training : {}\\n\".format(np.shape(y_train)))\n",
    "print(\"Shape of SrecchedDatasetX : {}\\n\".format(np.shape(SrecchedDatasetX)))\n",
    "\n",
    "print(\"Shape of y_testing (not converted): {}\\n\".format(np.shape(y_test)))# these can be overlooked\n",
    "print(\"Shape of x_testing (not converted): {}\\n\".format(np.shape(x_test)))# these can be overlooked\n",
    "\n",
    "LenthOfArray = 1000# half length of the array containing the vectorized images\n",
    "BalancedArray = np.zeros([2*LenthOfArray, 784])# vector containing vectorized images\n",
    "BalancedLable = np.zeros([2*LenthOfArray])# cevtor containing lables\n",
    "OnesVector = np.zeros([LenthOfArray, 784])# vector containing vectorized images with lable = 1\n",
    "OnesLable = np.ones([LenthOfArray])# vector containing lables = 1\n",
    "NegativeOnesVector = np.zeros([LenthOfArray, 784])# vector containing vectorized images with lable = -1\n",
    "NegativeOnesLable = -np.ones([LenthOfArray])# vector containing lables = -1\n",
    "\n",
    "LenthOfArrayPlus = LenthOfArray-1# it is a counter for while cycle (used for positions in the final array)\n",
    "LenthOfArrayMinus = LenthOfArray-1# it is a counter for while cycle (used for positions in the final array)\n",
    "\n",
    "CounterPlus = 0# it is a counter for while cycle (used for positions in the old array)\n",
    "CounterMinus = 0# it is a counter for while cycle (used for positions in the old array)\n",
    "\n",
    "while LenthOfArrayPlus>-1:\n",
    "    if (y_train[CounterPlus] == 1):\n",
    "        #print(\"ciao1 {}\\n\".format(LenthOfArrayPlus))\n",
    "        OnesVector[LenthOfArrayPlus] = SrecchedDatasetX[CounterPlus]\n",
    "        LenthOfArrayPlus = LenthOfArrayPlus - 1\n",
    "    CounterPlus = CounterPlus + 1\n",
    "        \n",
    "while LenthOfArrayMinus>-1:\n",
    "    if (y_train[CounterMinus] == -1):\n",
    "        #print(\"ciao-1 {}\\n\".format(LenthOfArrayMinus))\n",
    "        NegativeOnesVector[LenthOfArrayMinus] = SrecchedDatasetX[CounterMinus]\n",
    "        LenthOfArrayMinus = LenthOfArrayMinus - 1\n",
    "    CounterMinus = CounterMinus + 1\n",
    "\n",
    "# positive\n",
    "for i in range(0, LenthOfArray):\n",
    "    #print(2*i)\n",
    "    BalancedArray[2*i] = OnesVector[i]\n",
    "    BalancedLable[2*i] = OnesLable[i]\n",
    "\n",
    "# negative\n",
    "for i in range(0, LenthOfArray):\n",
    "    #print(2*i-1)\n",
    "    BalancedArray[2*i-1] = NegativeOnesVector[i]\n",
    "    BalancedLable[2*i-1] = NegativeOnesLable[i]    \n",
    "\n",
    "print(\"\\ndone\\n\")"
   ]
  },
  {
   "cell_type": "code",
   "execution_count": null,
   "id": "624b43a4",
   "metadata": {
    "pycharm": {
     "name": "#%%\n"
    }
   },
   "outputs": [],
   "source": [
    "# display the first 100 training images with labels and verify that the data is in the correct formate.\n",
    "\n",
    "plt.figure(figsize=(16,16))# <--------------------------------------------------------------------------- UNKNOWN\n",
    "for i in range(100):# i want to plot 25 images\n",
    "    plt.subplot(10,10,i+1)# the letter \"i\" rappresent the position \n",
    "    plt.xticks([])# <------------------------------------------------------------------------------------ UNKNOWN\n",
    "    plt.yticks([])\n",
    "    plt.grid(False)# in this way i will not have the grid in on the images\n",
    "    plt.imshow(np.reshape(OnesVector[i], (28, 28    )), cmap=plt.cm.binary)# load the image and make it show black and white\n",
    "    plt.xlabel(OnesLable[i])# add the lable associated to that image under it\n",
    "plt.show()# show all the images"
   ]
  },
  {
   "cell_type": "code",
   "execution_count": null,
   "id": "d78cd97e",
   "metadata": {
    "pycharm": {
     "name": "#%%\n"
    }
   },
   "outputs": [],
   "source": [
    "# display the first 100 training images with labels and verify that the data is in the correct formate.\n",
    "\n",
    "plt.figure(figsize=(16,16))# <--------------------------------------------------------------------------- UNKNOWN\n",
    "for i in range(100):# i want to plot 25 images\n",
    "    plt.subplot(10,10,i+1)# the letter \"i\" rappresent the position \n",
    "    plt.xticks([])# <------------------------------------------------------------------------------------ UNKNOWN\n",
    "    plt.yticks([])\n",
    "    plt.grid(False)# in this way i will not have the grid in on the images\n",
    "    plt.imshow(np.reshape(NegativeOnesVector[i], (28, 28)), cmap=plt.cm.binary)# load the image and make it show black and white\n",
    "    plt.xlabel(NegativeOnesLable[i])# add the lable associated to that image under it\n",
    "plt.show()# show all the images"
   ]
  },
  {
   "cell_type": "code",
   "execution_count": null,
   "id": "45f84125",
   "metadata": {
    "pycharm": {
     "name": "#%%\n"
    }
   },
   "outputs": [],
   "source": [
    "# display the first 200 training images with labels and verify that the data is in the correct formate.\n",
    "plt.figure(figsize=(30, 30))# <--------------------------------------------------------------------------- UNKNOWN\n",
    "for i in range(200):# i want to plot 25 images\n",
    "    plt.subplot(20,10,i+1)# the letter \"i\" rappresent the position \n",
    "    plt.xticks([])# <------------------------------------------------------------------------------------ UNKNOWN\n",
    "    plt.yticks([])\n",
    "    plt.grid(False)# in this way i will not have the grid in on the images\n",
    "    plt.imshow(np.reshape(BalancedArray[i], (28, 28)), cmap=plt.cm.binary)# load the image and make it show black and white\n",
    "    plt.xlabel(BalancedLable[i])# add the lable associated to that image under it\n",
    "plt.show()# show all the images"
   ]
  },
  {
   "cell_type": "code",
   "execution_count": 9,
   "id": "f3b375c4",
   "metadata": {
    "pycharm": {
     "name": "#%%\n"
    }
   },
   "outputs": [
    {
     "ename": "NameError",
     "evalue": "name 'BalancedLable' is not defined",
     "output_type": "error",
     "traceback": [
      "\u001B[0;31m---------------------------------------------------------------------------\u001B[0m",
      "\u001B[0;31mNameError\u001B[0m                                 Traceback (most recent call last)",
      "Input \u001B[0;32mIn [9]\u001B[0m, in \u001B[0;36m<cell line: 7>\u001B[0;34m()\u001B[0m\n\u001B[1;32m      6\u001B[0m Elements \u001B[38;5;241m=\u001B[39m \u001B[38;5;241m10\u001B[39m\u001B[38;5;66;03m# Number of elemnets that each node will have\u001B[39;00m\n\u001B[1;32m      7\u001B[0m \u001B[38;5;28;01mfor\u001B[39;00m i \u001B[38;5;129;01min\u001B[39;00m \u001B[38;5;28mrange\u001B[39m(NN):\n\u001B[0;32m----> 8\u001B[0m     NodesLablesList\u001B[38;5;241m.\u001B[39mappend(\u001B[43mBalancedLable\u001B[49m[Elements\u001B[38;5;241m*\u001B[39mi: Elements\u001B[38;5;241m*\u001B[39m(i\u001B[38;5;241m+\u001B[39m\u001B[38;5;241m1\u001B[39m)])\u001B[38;5;66;03m#BalancedArray[]\u001B[39;00m\n\u001B[1;32m      9\u001B[0m     NodesInputDataList\u001B[38;5;241m.\u001B[39mappend(BalancedArray[Elements\u001B[38;5;241m*\u001B[39mi: Elements\u001B[38;5;241m*\u001B[39m(i\u001B[38;5;241m+\u001B[39m\u001B[38;5;241m1\u001B[39m)])\n",
      "\u001B[0;31mNameError\u001B[0m: name 'BalancedLable' is not defined"
     ]
    }
   ],
   "source": [
    "#                  Subdivision of the dataset (images and labels) between all the nodes\n",
    "\n",
    "NodesInputDataList = []# list containing the vectorized images of each node\n",
    "NodesLablesList = []# list containing the lables associated to images for each node\n",
    "\n",
    "Elements = 10# Number of elemnets that each node will have\n",
    "for i in range(NN):\n",
    "    NodesLablesList.append(BalancedLable[Elements*i: Elements*(i+1)])#BalancedArray[]\n",
    "    NodesInputDataList.append(BalancedArray[Elements*i: Elements*(i+1)])#BalancedLable[]\n"
   ]
  },
  {
   "cell_type": "code",
   "execution_count": null,
   "id": "2301bb02",
   "metadata": {
    "pycharm": {
     "name": "#%%\n"
    }
   },
   "outputs": [],
   "source": [
    "# i want to see if the data are distributed correctly\n",
    "print(\"Lable list {}\".format(np.shape(NodesLablesList)))\n",
    "print(NodesLablesList[0][0])# you are accessing the first node at the first element of its proprietary lable dataset\n",
    "print(NodesInputDataList[0][0])# you are accessing the first node at the first element of its proprietary vectorized images dataset\n",
    "print(\"Nodes input data {}\".format(np.shape(NodesInputDataList)))"
   ]
  },
  {
   "cell_type": "code",
   "execution_count": null,
   "id": "06b7a6de",
   "metadata": {
    "pycharm": {
     "name": "#%%\n"
    }
   },
   "outputs": [],
   "source": [
    "T = 3 # number of layers our neural network has\n",
    "d = 784  # Number of neurons in each layer. Same numbers for all the layers\n",
    "\n",
    "# Gradient Method Parameters\n",
    "max_iters = 1000 # epochs\n",
    "stepsize = 0.001 # learning rate\n",
    "\n",
    "'''# QUESTA PARTE LA NASCONDO PERCHE DEVO SOSTITUIRLA CON QUELLA SOTTO\n",
    "label_point = np.zeros(max_iters)\n",
    "data_point = np.zeros([max_iters, 784])\n",
    "# questa cosa non va bene, serve solo per il debugghing\n",
    "for i in range(0, max_iters):\n",
    "    label_point[i] = BalancedLable[i%200]\n",
    "    data_point[i] = BalancedArray[i%200]\n",
    "'''\n",
    "    \n",
    "###############################################################################\n",
    "# Activation Function\n",
    "\n",
    "DecisionVAriable = False\n",
    "'''\n",
    "def sigmoid_fn(xi):\n",
    "    return 1/(1+np.exp(-xi))\n",
    "\n",
    "# Derivative of Activation Function\n",
    "def sigmoid_fn_derivative(xi):\n",
    "    return sigmoid_fn(xi)*(1-sigmoid_fn(xi))\n",
    "'''\n",
    "\n",
    "\n",
    "def sigmoid_fn(xi):# tanh\n",
    "    return (np.exp(xi) - np.exp(-xi)) / (np.exp(xi) + np.exp(-xi))\n",
    "\n",
    "def sigmoid_fn_derivative(xi):# tanh_derivative\n",
    "    return (2/(np.exp(xi)+np.exp(-xi)))**2\n",
    "\n",
    "\n",
    "# Inference: x_tp = f(xt,ut)\n",
    "def inference_dynamics(xt,ut):\n",
    "    \"\"\"\n",
    "        input: \n",
    "              xt current state\n",
    "              ut current input\n",
    "        output: \n",
    "              xtp next state\n",
    "    \"\"\"\n",
    "    xtp = np.zeros(d)\n",
    "    for ell in range(d):\n",
    "        temp = xt@ut[ell,1:] + ut[ell,0] # including the bias\n",
    "\n",
    "        xtp[ell] = sigmoid_fn( temp ) # x' * u_ell\n",
    "  \n",
    "    return xtp\n",
    "\n",
    "# Forward Propagation\n",
    "def forward_pass(uu,x0):\n",
    "    \"\"\"\n",
    "        input: \n",
    "              uu input trajectory: u[0],u[1],..., u[T-1]\n",
    "              x0 initial condition\n",
    "        output: \n",
    "              xx state trajectory: x[1],x[2],..., x[T]\n",
    "    \"\"\"\n",
    "    xx = np.zeros((T,d))\n",
    "    xx[0] = x0\n",
    "\n",
    "    for t  in range(T-1):\n",
    "        xx[t+1] = inference_dynamics(xx[t],uu[t]) # x^+ = f(x,u)\n",
    "\n",
    "    return xx\n",
    "  \n",
    "\n",
    "\n",
    "# Adjoint dynamics: \n",
    "#   state:    lambda_t = A.T lambda_tp\n",
    "#   output: deltau_t = B.T lambda_tp\n",
    "def adjoint_dynamics(ltp,xt,ut):\n",
    "    \"\"\"\n",
    "        input: \n",
    "              llambda_tp current costate\n",
    "              xt current state\n",
    "              ut current input\n",
    "        output: \n",
    "              llambda_t next costate\n",
    "              delta_ut loss gradient wrt u_t\n",
    "    \"\"\"\n",
    "    df_dx = np.zeros((d,d))\n",
    "\n",
    "    # df_du = np.zeros((d,(d+1)*d))\n",
    "    Delta_ut = np.zeros((d,d+1))\n",
    "\n",
    "    for j in range(d):\n",
    "        dsigma_j = sigmoid_fn_derivative(xt@ut[j,1:] + ut[j,0]) \n",
    "\n",
    "        df_dx[:,j] = ut[j,1:]*dsigma_j\n",
    "        # df_du[j, XX] = dsigma_j*np.hstack([1,xt])\n",
    "    \n",
    "        # B'@ltp\n",
    "        Delta_ut[j,0] = ltp[j]*dsigma_j\n",
    "        Delta_ut[j,1:] = xt*ltp[j]*dsigma_j\n",
    "  \n",
    "    lt = df_dx@ltp # A'@ltp\n",
    "    # Delta_ut = df_du@ltp\n",
    "\n",
    "    return lt, Delta_ut\n",
    "\n",
    "# Backward Propagation\n",
    "def backward_pass(xx,uu,llambdaT):\n",
    "    \"\"\"\n",
    "        input: \n",
    "              xx state trajectory: x[1],x[2],..., x[T]\n",
    "              uu input trajectory: u[0],u[1],..., u[T-1]\n",
    "              llambdaT terminal condition\n",
    "        output: \n",
    "              llambda costate trajectory\n",
    "              delta_u costate output, i.e., the loss gradient\n",
    "    \"\"\"\n",
    "    llambda = np.zeros((T,d))\n",
    "    llambda[-1] = llambdaT\n",
    "\n",
    "    Delta_u = np.zeros((T-1,d,d+1))\n",
    "\n",
    "    for t in reversed(range(T-1)): # T-2,T-1,...,1,0\n",
    "        llambda[t], Delta_u[t] = adjoint_dynamics(llambda[t+1],xx[t],uu[t])\n",
    "\n",
    "    return Delta_u\n",
    "\n",
    "\n",
    "\n",
    "\n",
    "\n",
    "\n",
    "\n",
    "\n",
    "\n",
    "\n",
    "\n",
    "\n",
    "###############################################################################\n",
    "# MAIN (qua sotto bisogna effettuare le sostituzioni)\n",
    "###############################################################################\n",
    "\n",
    "# use those two lists\n",
    "#NodesInputDataList = []# list containing the vectorized images of each node\n",
    "#NodesLablesList = []# list containing the lables associated to images for each node\n",
    "\n",
    "MAXITERS = np.int(1e3) # Explicit Casting\n",
    "# [AgentNumber, Layer, Node, Iteration]\n",
    "XX = np.zeros((NN,MAXITERS))# this tensor will contain the evolution of the states of our system\n",
    "SS = np.zeros((NN,MAXITERS))# tensor containing the history of the gradients of the cost function\n",
    "\n",
    "XX_init = 10*np.random.rand(NN)# inizialization of our initial conditions\n",
    "XX[:,0] = XX_init# appending of initial conditions\n",
    "XX_dg[:,0] = XX_init\n",
    "\n",
    "for ii in range (NN):\n",
    "    _, SS[ii,0] = quadratic_fn(XX[ii,0],Q[ii],R[ii])# here he assigne the initial value of the gradient of the cost function for each node\n",
    "\n",
    "FF = np.zeros((MAXITERS))# vector containing the evolution of the cost\n",
    "'''\n",
    "J = np.zeros(max_iters)                       # Cost\n",
    "\n",
    "# Initial Weights / Initial Input Trajectory\n",
    "uu = -np.random.randn(T-1, d, d+1)# there is d+1 becouse we have bias in each node\n",
    "\n",
    "# Initial State Trajectory.\n",
    "xx = forward_pass(uu,data_point[0]) # T x d\n",
    "\n",
    "# forcing the last layer of the weiths to be composed by zeros except for the first neuron \n",
    "for i in range(1, np.shape(uu)[1]):\n",
    "    uu[np.shape(uu)[0]-1][i]=ZeroVector\n",
    "print(\"Riassegnamento {0}\".format(uu[np.shape(uu)[0]-1][0:3]))\n",
    "'''\n",
    "\n",
    "\n",
    "\n",
    "\n",
    "\n",
    "\n",
    "\n",
    "\n",
    "\n",
    "\n",
    "ss = 1e-2 # stepsize\n",
    "\n",
    "for tt in range (MAXITERS-1):\n",
    "    if (tt % 50) == 0:\n",
    "        print(\"Iteration {:3d}\".format(tt), end=\"\\n\")\n",
    "    \n",
    "    for ii in range (NN):\n",
    "        Nii = np.nonzero(Adj[ii])[0]# extracting the indices of the inneighborhood of the node using the adjacency matrix(looks which values are not equal to zero in that row)\n",
    "        \n",
    "        XX[ii,tt+1] = WW[ii,ii]*XX[ii,tt] - ss*SS[ii,tt]# future state of node i is equal to its own weighted state minus the current avareged gradient\n",
    "        for jj in Nii:\n",
    "            XX[ii,tt+1] += WW[ii,jj]*XX[jj,tt]# for each node compute its future state adding to itself (state) the weighted average of the states of the neighborhoods\n",
    "\n",
    "        f_ii, grad_fii = quadratic_fn(XX[ii,tt],Q[ii],R[ii])# compute the value of the cost function and its gradient \n",
    "        _, grad_fii_p = quadratic_fn(XX[ii,tt+1],Q[ii],R[ii])# compute the gradient of the cost function in the future state XX (used for the difference of gradients)\n",
    "        SS[ii,tt+1] = WW[ii,ii]*SS[ii,tt] +(grad_fii_p-grad_fii)# future gradient of node i is equal to its own weighted gradient minus the difference between future gradient for this state minus the current gradient for this state\n",
    "        for jj in Nii:\n",
    "            SS[ii,tt+1] += WW[ii,jj]*SS[jj,tt]# for each node compute its future gradient adding the part calculated above and the weighted average of the gradients of the neighborhoods\n",
    "\n",
    "        FF[tt] +=f_ii# updating the cost vector\n",
    "'''\n",
    "# GO!\n",
    "for k in range(max_iters):\n",
    "    #if k%4 == 0:\n",
    "    print('Cost at k={:d} is {:.10f} lable: {}'.format(k,J[k-1], label_point[k]))\n",
    "   \n",
    "    # Initial State Trajectory\n",
    "    xx = forward_pass(uu,data_point[k]) # T x d\n",
    "\n",
    "    # Backward propagation\n",
    "    llambdaT = 2*( xx[-1,:] - label_point[k]) # xT . LambdaT = 2*(-LablePoint)\n",
    "    Delta_u = backward_pass(xx,uu,llambdaT) # the gradient of the loss function \n",
    "  \n",
    "    # Update the weights\n",
    "    uu = uu - stepsize*Delta_u # overwriting the old value\n",
    "\n",
    "    \"\"\"# parte suggerita dal prof dove vado a azzerare a ogni iterazione tutti i pesi dei neuroni tranne che il primo\n",
    "    for i in range(1, np.shape(uu)[1]):\n",
    "        uu[np.shape(uu)[0]-1][i]=ZeroVector\n",
    "\n",
    "    print(\"Riassegnamento {0}\".format(uu[np.shape(uu)[0]-1][0:3]))\n",
    "    print(\"xx {0}\".format(xx[np.shape(xx)[0]-1][0:3]))\n",
    "    \"\"\"\n",
    "  \n",
    "    # Forward propagation\n",
    "    xx = forward_pass(uu,data_point[k])\n",
    "  \n",
    "    # Store the Loss Value across Iterations\n",
    "    J[k] = (xx[-1,:] - label_point[k])@(xx[-1,:] - label_point[k]) # it is the cost at k+1\n",
    "    # np.linalg.norm( xx[-1,:] - label_point )**2\n",
    "'''"
   ]
  },
  {
   "cell_type": "code",
   "execution_count": null,
   "id": "ba47e69e",
   "metadata": {
    "pycharm": {
     "name": "#%%\n"
    }
   },
   "outputs": [],
   "source": [
    "#                                    test on training data\n",
    "\n",
    "NumberOfElements = 20\n",
    "AverageCost = moving_average(J, n=NumberOfElements)# here i compute the moving average of the cost vector J\n",
    "AAAA = np.ones(NumberOfElements)\n",
    "\n",
    "#_,ax = plt.subplots()\n",
    "plt.rcParams['figure.figsize'] = [15, 10]# in this way you set the size of the plot\n",
    "plt.plot(range(max_iters), J, color='r', label='J')\n",
    "plt.plot(range(len(AverageCost)), AverageCost, color='g', label='avg(J)')\n",
    "#plt.grid()\n",
    "plt.grid(True,which=\"both\", linestyle='--')\n",
    "plt.yscale(\"log\")\n",
    "plt.show()"
   ]
  },
  {
   "cell_type": "code",
   "execution_count": null,
   "id": "335a1ea5",
   "metadata": {
    "pycharm": {
     "name": "#%%\n"
    }
   },
   "outputs": [],
   "source": [
    "#                                    test on test data \n",
    "\n",
    "mm = 34\n",
    "xx = forward_pass(uu, SrecchedDatasetX[mm])\n",
    "print(\"Shape of the solutions propagationa {0}\".format(np.shape(xx)))\n",
    "#print(\"Predicted solution {0}\".format(xx[-1][:]))\n",
    "print(\"label_point :{0}\".format(y_train[mm]))\n",
    "print(\"NN concensus mean: {0}\".format(np.mean(xx[-1][:])))\n",
    "print(\"NN concensus First: {0}\".format(np.mean(xx[-1][0])))\n",
    "\n",
    "prova = np.reshape(xx[-1], (28, 28))# here at index you can put whatewer number you wish to see if the conversion went correctly\n",
    "plt.matshow(prova)\n",
    "plt.colorbar()# i want to have the gradueted bar with colors\n",
    "plt.grid(False)# i dont want to have a grid on the image\n",
    "plt.xlabel(y_train[mm])# write the number on the photo on x axis\n",
    "plt.show()\n",
    "\n",
    "# HERE I TEST THE CONVERSION GOING BACKWARD (CHEKING IF THE IMAGE IS CORRECT)\n",
    "#print(SrecchedDatasetX[1])\n",
    "prova = np.reshape(SrecchedDatasetX[mm], (28, 28))# here at index you can put whatewer number you wish to see if the conversion went correctly\n",
    "plt.matshow(prova)\n",
    "plt.xlabel(y_train[mm])\n",
    "plt.show()"
   ]
  },
  {
   "cell_type": "code",
   "execution_count": null,
   "id": "48e525a7",
   "metadata": {
    "pycharm": {
     "name": "#%%\n"
    }
   },
   "outputs": [],
   "source": [
    "#np.shape(ZeroVector)\n",
    "#np.shape(xx)\n",
    "#np.shape(uu)"
   ]
  },
  {
   "cell_type": "code",
   "execution_count": null,
   "id": "ee32b593",
   "metadata": {
    "pycharm": {
     "name": "#%%\n"
    }
   },
   "outputs": [],
   "source": [
    "#                      check of the last layer of uu (weiths)\n",
    "\n",
    "AAAA = uu[-1][2][1:785]\n",
    "prova = np.reshape(AAAA, (28, 28))# here at index you can put whatewer number you wish to see if the conversion went correctly\n",
    "plt.matshow(prova)\n",
    "plt.colorbar()\n",
    "plt.grid(False)\n",
    "plt.show()"
   ]
  },
  {
   "cell_type": "code",
   "execution_count": null,
   "id": "a219ce14",
   "metadata": {
    "pycharm": {
     "name": "#%%\n"
    }
   },
   "outputs": [],
   "source": [
    "#                      I wanto to see the output of the NN and the lables\n",
    "\n",
    "mm = 0\n",
    "xx = forward_pass(uu,data_point[mm])\n",
    "print(\"Shape of the solutions propagationa {0}\".format(np.shape(xx)))\n",
    "#print(\"Predicted solution {0}\".format(xx[-1][:]))\n",
    "print(\"label_point :{0}\".format(label_point[mm]))\n",
    "print(\"NN concensus: {0}\".format(np.mean(xx[-1][:])))\n",
    "\n",
    "prova = np.reshape(xx[-1], (28, 28))# here at index you can put whatewer number you wish to see if the conversion went correctly\n",
    "plt.matshow(prova)\n",
    "plt.colorbar()# i want to have the gradueted bar with colors\n",
    "plt.grid(False)# i dont want to have a grid on the image\n",
    "plt.xlabel(label_point[mm])# write the number on the photo on x axis\n",
    "plt.show()"
   ]
  },
  {
   "cell_type": "code",
   "execution_count": null,
   "id": "461a006b",
   "metadata": {
    "pycharm": {
     "name": "#%%\n"
    }
   },
   "outputs": [],
   "source": [
    "#                               saving the weights of uu and the values of J (cost vector)\n",
    "\n",
    "'''\n",
    "print(np.shape(uu))\n",
    "data = np.asarray([np.reshape(uu, np.shape(uu)[0]*784*785)])\n",
    "print(np.shape(data))\n",
    "data2 = np.asarray([np.reshape(uu, [np.shape(uu)[0], 784, 785])])\n",
    "print(uu-data2)\n",
    "np.savetxt('uu_matrix0p45.csv', data, delimiter=':')\n",
    "\n",
    "data10 = np.asarray([J])\n",
    "np.savetxt('J_vector0p45.csv', data10, delimiter=':')\n",
    "'''"
   ]
  },
  {
   "cell_type": "code",
   "execution_count": null,
   "id": "3a234ed0",
   "metadata": {
    "pycharm": {
     "name": "#%%\n"
    }
   },
   "outputs": [],
   "source": [
    "#                                loading the weights of uu and the values of J (cost vector)\n",
    "\n",
    "#prova = np.loadtxt(fname = 'J_vector.csv', delimiter=':')\n",
    "#print(np.shape(prova))"
   ]
  },
  {
   "cell_type": "code",
   "execution_count": null,
   "id": "fd6f7601",
   "metadata": {
    "pycharm": {
     "name": "#%%\n"
    }
   },
   "outputs": [],
   "source": [
    "# HERE I RESHAPE THE IMAGES FROM A MATRIX TO A VECTOR MANTAINING THE DATA CONTENT (for validation data)\n",
    "\n",
    "StrecchedValidationDataset = np.reshape(x_test, (np.shape(x_test)[0], 784))\n",
    "# this vector contains linearized images for validation of the neural network\n",
    "# \"y_test\" contains the lables of the test set\n",
    "\n",
    "# display the first 25 training images with labels and verify that the data is in the correct formate.\n",
    "plt.figure(figsize=(32,32))# <--------------------------------------------------------------------------- UNKNOWN\n",
    "for i in range(200):# i want to plot 25 images\n",
    "    plt.subplot(20,10,i+1)# the letter \"i\" rappresent the position \n",
    "    plt.xticks([])# <------------------------------------------------------------------------------------ UNKNOWN\n",
    "    plt.yticks([])\n",
    "    plt.grid(False)# in this way i will not have the grid in on the images\n",
    "    plt.imshow(np.reshape(StrecchedValidationDataset[i], (28, 28)), cmap=plt.cm.binary)# load the image and make it show black and white\n",
    "    plt.xlabel(y_test[i])# add the lable associated to that image under it\n",
    "plt.show()# show all the images"
   ]
  },
  {
   "cell_type": "code",
   "execution_count": null,
   "id": "64011184",
   "metadata": {
    "pycharm": {
     "name": "#%%\n"
    }
   },
   "outputs": [],
   "source": [
    "#                                         Validation function\n",
    "\n",
    "def ValidationFunction(uu: np.array, VectoryzedImagesTestArray: np.array, LablesTestArray: np.array, NumberOfEvaluations = 100, fringe = 0.5):\n",
    "    \"\"\"    1 -> the prediction is correct\n",
    "           0 -> the prediction is wrong\n",
    "    \"\"\"\n",
    "    VectorOfEstimation = -np.ones(NumberOfEvaluations)\n",
    "    for i in range(NumberOfEvaluations):\n",
    "        xx = forward_pass(uu, VectoryzedImagesTestArray[i])# here i move forward the image in the neural network\n",
    "        #prediction = np.mean(xx[-1][:])# here i compute the avarege of the resoults of neural network\n",
    "        prediction = xx[-1][0]\n",
    "        \n",
    "        if (prediction >= fringe) and (LablesTestArray[i] == 1):\n",
    "            VectorOfEstimation[i] = 1\n",
    "        if ((prediction >= fringe) and (LablesTestArray[i] == -1)) or (prediction < fringe) and (LablesTestArray[i] == 1):\n",
    "            VectorOfEstimation[i] = 0\n",
    "\n",
    "        if (prediction <= -fringe) and (LablesTestArray[i] == -1):\n",
    "            VectorOfEstimation[i] = 1\n",
    "        if ((prediction <= -fringe) and (LablesTestArray[i] == 1)) or (prediction > -fringe) and (LablesTestArray[i] == -1):\n",
    "            VectorOfEstimation[i] = 0\n",
    "    unique, counts = np.unique(VectorOfEstimation, return_counts=True)\n",
    "    Resoult = dict(zip(unique, counts))\n",
    "    return Resoult"
   ]
  },
  {
   "cell_type": "code",
   "execution_count": null,
   "id": "f3b92973",
   "metadata": {
    "pycharm": {
     "name": "#%%\n"
    }
   },
   "outputs": [],
   "source": [
    "samples = 2000\n",
    "treshold = 0.8\n",
    "Dictionary = ValidationFunction(uu, StrecchedValidationDataset, y_test, samples, treshold)\n",
    "print(Dictionary)\n",
    "print(\"The accuracy is {}\".format(Dictionary[1.0]/samples))"
   ]
  },
  {
   "cell_type": "code",
   "execution_count": null,
   "id": "5748ec52",
   "metadata": {
    "pycharm": {
     "name": "#%%\n"
    }
   },
   "outputs": [],
   "source": []
  },
  {
   "cell_type": "code",
   "execution_count": null,
   "id": "28bbfd34",
   "metadata": {
    "pycharm": {
     "name": "#%%\n"
    }
   },
   "outputs": [],
   "source": []
  },
  {
   "cell_type": "code",
   "execution_count": null,
   "id": "a063b748",
   "metadata": {
    "pycharm": {
     "name": "#%%\n"
    }
   },
   "outputs": [],
   "source": [
    "# toglimi ?\n",
    "\n",
    "mm = 93\n",
    "xx = forward_pass(uu, StrecchedValidationDataset[mm])# here i move forward the image in the neural network\n",
    "prediction = xx[-1][0]\n",
    "print(\"\\nThe prediction is {} while the lable is {}\".format(prediction, y_test[mm]))"
   ]
  },
  {
   "cell_type": "code",
   "execution_count": null,
   "id": "f889f559",
   "metadata": {
    "pycharm": {
     "name": "#%%\n"
    }
   },
   "outputs": [],
   "source": []
  },
  {
   "cell_type": "code",
   "execution_count": null,
   "id": "31a0a0a2",
   "metadata": {
    "pycharm": {
     "name": "#%%\n"
    }
   },
   "outputs": [],
   "source": [
    "# https://towardsdatascience.com/what-to-do-when-your-classification-dataset-is-imbalanced-6af031b12a36\n",
    "# https://stackoverflow.com/questions/39561560/getting-gradient-of-model-output-w-r-t-weights-using-keras\n",
    "# https://realpython.com/python-exceptions/\n",
    "# https://math.stackexchange.com/questions/2503428/derivative-of-binary-cross-entropy-why-are-my-signs-not-right"
   ]
  },
  {
   "cell_type": "code",
   "execution_count": null,
   "id": "11e30c7d",
   "metadata": {
    "pycharm": {
     "name": "#%%\n"
    }
   },
   "outputs": [],
   "source": []
  },
  {
   "cell_type": "code",
   "execution_count": 9,
   "id": "775e8844",
   "metadata": {
    "pycharm": {
     "name": "#%%\n"
    }
   },
   "outputs": [],
   "source": []
  },
  {
   "cell_type": "code",
   "execution_count": 9,
   "id": "9404c345",
   "metadata": {
    "pycharm": {
     "name": "#%%\n"
    }
   },
   "outputs": [],
   "source": []
  },
  {
   "cell_type": "code",
   "execution_count": 9,
   "id": "88d2f30a",
   "metadata": {
    "pycharm": {
     "name": "#%%\n"
    }
   },
   "outputs": [],
   "source": []
  }
 ],
 "metadata": {
  "kernelspec": {
   "display_name": "Python 3 (ipykernel)",
   "language": "python",
   "name": "python3"
  },
  "language_info": {
   "codemirror_mode": {
    "name": "ipython",
    "version": 3
   },
   "file_extension": ".py",
   "mimetype": "text/x-python",
   "name": "python",
   "nbconvert_exporter": "python",
   "pygments_lexer": "ipython3",
   "version": "3.8.10"
  }
 },
 "nbformat": 4,
 "nbformat_minor": 5
}