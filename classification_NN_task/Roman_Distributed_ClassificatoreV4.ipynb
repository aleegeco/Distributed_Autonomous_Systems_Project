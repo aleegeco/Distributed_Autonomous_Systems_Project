{
 "cells": [
  {
   "cell_type": "code",
   "execution_count": 1,
   "id": "b24fa964",
   "metadata": {
    "pycharm": {
     "name": "#%%\n"
    }
   },
   "outputs": [],
   "source": [
    "##############################################################\n",
    "#  WARNING, EXECUTE THIS LINE BEFORE EXEsCUTING ANY ROS CODE #\n",
    "#                                                            #\n",
    "#             source opt/ros/foxy/setup.bash                 #\n",
    "#                                                            #\n",
    "##############################################################"
   ]
  },
  {
   "cell_type": "code",
   "execution_count": 2,
   "id": "3ede3818",
   "metadata": {
    "pycharm": {
     "name": "#%%\n"
    }
   },
   "outputs": [
    {
     "name": "stderr",
     "output_type": "stream",
     "text": [
      "2022-06-24 23:55:42.864131: W tensorflow/stream_executor/platform/default/dso_loader.cc:64] Could not load dynamic library 'libcudart.so.11.0'; dlerror: libcudart.so.11.0: cannot open shared object file: No such file or directory\n",
      "2022-06-24 23:55:42.864175: I tensorflow/stream_executor/cuda/cudart_stub.cc:29] Ignore above cudart dlerror if you do not have a GPU set up on your machine.\n"
     ]
    }
   ],
   "source": [
    "from __future__ import absolute_import, division, print_function# need to undestend their utility <-------- UNKNOWN\n",
    "import tensorflow as tf\n",
    "import keras# dont import keras ftom tensorflow library otherwise the code below will fail\n",
    "from sklearn.model_selection import train_test_split\n",
    "import numpy as np\n",
    "from keras_visualizer import visualizer# used to visualize the neural network <-------------------- MORE INFORMATION\n",
    "from tensorflow.keras.utils import plot_model# used to plot the neural network model <------------------MORE INFO\n",
    "import matplotlib.pyplot as plt# this library will be used for data visualization\n",
    "\n",
    "TestSize = 0.1# size of the test set\n",
    "\n",
    "percent = 0.2# percentage of data we want to give to our system from all the data aveilable\n",
    "# we start to take them from the start of the dataset , one after one)\n",
    "\n",
    "LukyNumber = 4# the number that in this session will be associated to 1 while the others will be set to 0\n",
    "# (we set all the other numbers to zero becouse otherwise the neural network behave incorrectly with thos libraries)"
   ]
  },
  {
   "cell_type": "code",
   "execution_count": 3,
   "id": "060d4704",
   "metadata": {
    "pycharm": {
     "name": "#%%\n"
    }
   },
   "outputs": [],
   "source": [
    "(x_train, y_train), (x_test, y_test) = keras.datasets.mnist.load_data()\n",
    "# import the dataset \"mnist\" that contains all the images of the numbers\n",
    "# and relatives lables an then assine all those data to two sets ( training set and test set )\n",
    "\n",
    "# adjusting the type of the data contained in the arrays\n",
    "y_train = y_train.astype(np.int8)\n",
    "y_test = y_test.astype(np.int8)"
   ]
  },
  {
   "cell_type": "code",
   "execution_count": 4,
   "id": "248c7c9d",
   "metadata": {
    "pycharm": {
     "name": "#%%\n"
    }
   },
   "outputs": [
    {
     "name": "stdout",
     "output_type": "stream",
     "text": [
      "<class 'numpy.ndarray'>\n",
      "60000\n",
      "(60000, 28, 28)\n",
      "<class 'numpy.ndarray'>\n",
      "10000\n",
      "(10000, 28, 28)\n"
     ]
    }
   ],
   "source": [
    "# I want to see some information about my data and they format\n",
    "print(type(x_train))# return the typology of our data set of images\n",
    "print(len(x_train))# retunr the lenth of the data set ( how much images we have )\n",
    "print(np.shape(x_train))# return the shape of the data set, in our case we have the\n",
    "# lenth and then the dimensions of the images\n",
    "\n",
    "print(type(x_test))# return the typology of our training set of images\n",
    "print(len(x_test))# retunr the lenth of the training set ( how much images we have )\n",
    "print(np.shape(x_test))# return the shape of the training set, in our case we have the\n",
    "# lenth and then the dimensions of the images\n",
    "\n",
    "#print(dir(np))\n",
    "#print(help(np.concatenate))"
   ]
  },
  {
   "cell_type": "code",
   "execution_count": 5,
   "id": "f8ee9fb9",
   "metadata": {
    "pycharm": {
     "name": "#%%\n"
    }
   },
   "outputs": [
    {
     "name": "stdout",
     "output_type": "stream",
     "text": [
      "Shape of x_total_temp: (70000, 28, 28)\n",
      "Shape of x_total reduced to 0.2: (14000, 28, 28)\n",
      "Shape of y_total_temp: (70000,)\n",
      "Shape of y_total reduced to 0.2: (14000,)\n"
     ]
    }
   ],
   "source": [
    "'''                             I HAVE TO CHECK IF THIS PART OF THE CODE IS CORRECT                            '''\n",
    "\n",
    "#                                    Reduction of the dataset dimension\n",
    "\n",
    "x_total_temp = np.append(x_train, x_test, axis=0)# CHECK IF THE PARTS ARE APPENDED CORRECTLY <------------- WARNING\n",
    "print(\"Shape of x_total_temp: {0}\".format(np.shape(x_total_temp)))\n",
    "\n",
    "x_total = x_total_temp[0: int(np.shape(x_total_temp)[0]*percent)]\n",
    "print(\"Shape of x_total reduced to {1}: {0}\".format(np.shape(x_total), percent))\n",
    "\n",
    "y_total_temp = np.append(y_train, y_test, axis=0)# CHECK IF THE PARTS ARE APPENDED CORRECTLY <------------- WARNING\n",
    "print(\"Shape of y_total_temp: {0}\".format(np.shape(y_total_temp)))\n",
    "\n",
    "y_total = y_total_temp[0: int(np.shape(y_total_temp)[0]*percent)]\n",
    "print(\"Shape of y_total reduced to {1}: {0}\".format(np.shape(y_total), percent))"
   ]
  },
  {
   "cell_type": "code",
   "execution_count": 6,
   "id": "429bfe16",
   "metadata": {
    "pycharm": {
     "name": "#%%\n"
    }
   },
   "outputs": [],
   "source": [
    "\"\"\"                                       THE ERROR COULD BE HERE                                                \"\"\"\n",
    "# Redistribution of the data in two sets ( test and train)\n",
    "x_train, x_test, y_train, y_test = train_test_split(x_total, y_total, test_size=TestSize)"
   ]
  },
  {
   "cell_type": "code",
   "execution_count": 7,
   "id": "672f5a2d",
   "metadata": {
    "pycharm": {
     "name": "#%%\n"
    }
   },
   "outputs": [
    {
     "name": "stdout",
     "output_type": "stream",
     "text": [
      "int8\n"
     ]
    }
   ],
   "source": [
    "\"\"\"                                       THE ERROR COULD BE HERE                                                \"\"\"\n",
    "#                                     Assignment of values [1, -1]\n",
    "\n",
    "# REWRITE THE CODE BECAUSE IT ISNT EFFISCENT ENOUGH (nested for loops or something else)\n",
    "\n",
    "for i in range(0, np.shape(y_train)[0]):# <-------------------------------------------------- WARNING (use iterator)\n",
    "    if y_train[i] == LukyNumber:\n",
    "        y_train[i] = 1\n",
    "    else:\n",
    "        y_train[i] = -1\n",
    "        \n",
    "for i in range(0, np.shape(y_test)[0]):# <-------------------------------------------------- WARNING (use iterator)\n",
    "    if y_test[i] == LukyNumber:\n",
    "        y_test[i] = 1\n",
    "    else:\n",
    "        y_test[i] = -1\n",
    "print(y_test.dtype)"
   ]
  },
  {
   "cell_type": "code",
   "execution_count": 8,
   "id": "6db5d945",
   "metadata": {
    "pycharm": {
     "name": "#%%\n"
    }
   },
   "outputs": [
    {
     "name": "stdout",
     "output_type": "stream",
     "text": [
      "Lenth of y_train : 12600\n",
      "\n",
      "Shape of y_train : (12600,)\n",
      "\n",
      "y_training : [-1 -1 -1 ... -1 -1 -1]\n",
      "\n",
      "Lenth of y_test : 1400\n",
      "\n",
      "Shape of y_test : (1400,)\n",
      "\n",
      "y_test : [-1 -1 -1 ... -1  1 -1]\n",
      "\n",
      "Lenth of x_train : 12600\n",
      "\n",
      "Shape of x_train : (12600, 28, 28)\n",
      "\n",
      "x_train : [[[0 0 0 ... 0 0 0]\n",
      "  [0 0 0 ... 0 0 0]\n",
      "  [0 0 0 ... 0 0 0]\n",
      "  ...\n",
      "  [0 0 0 ... 0 0 0]\n",
      "  [0 0 0 ... 0 0 0]\n",
      "  [0 0 0 ... 0 0 0]]\n",
      "\n",
      " [[0 0 0 ... 0 0 0]\n",
      "  [0 0 0 ... 0 0 0]\n",
      "  [0 0 0 ... 0 0 0]\n",
      "  ...\n",
      "  [0 0 0 ... 0 0 0]\n",
      "  [0 0 0 ... 0 0 0]\n",
      "  [0 0 0 ... 0 0 0]]\n",
      "\n",
      " [[0 0 0 ... 0 0 0]\n",
      "  [0 0 0 ... 0 0 0]\n",
      "  [0 0 0 ... 0 0 0]\n",
      "  ...\n",
      "  [0 0 0 ... 0 0 0]\n",
      "  [0 0 0 ... 0 0 0]\n",
      "  [0 0 0 ... 0 0 0]]\n",
      "\n",
      " ...\n",
      "\n",
      " [[0 0 0 ... 0 0 0]\n",
      "  [0 0 0 ... 0 0 0]\n",
      "  [0 0 0 ... 0 0 0]\n",
      "  ...\n",
      "  [0 0 0 ... 0 0 0]\n",
      "  [0 0 0 ... 0 0 0]\n",
      "  [0 0 0 ... 0 0 0]]\n",
      "\n",
      " [[0 0 0 ... 0 0 0]\n",
      "  [0 0 0 ... 0 0 0]\n",
      "  [0 0 0 ... 0 0 0]\n",
      "  ...\n",
      "  [0 0 0 ... 0 0 0]\n",
      "  [0 0 0 ... 0 0 0]\n",
      "  [0 0 0 ... 0 0 0]]\n",
      "\n",
      " [[0 0 0 ... 0 0 0]\n",
      "  [0 0 0 ... 0 0 0]\n",
      "  [0 0 0 ... 0 0 0]\n",
      "  ...\n",
      "  [0 0 0 ... 0 0 0]\n",
      "  [0 0 0 ... 0 0 0]\n",
      "  [0 0 0 ... 0 0 0]]]\n",
      "\n",
      "Lenth of x_test : 1400\n",
      "\n",
      "Shape of x_test : (1400, 28, 28)\n",
      "\n",
      "x_test : [[[0 0 0 ... 0 0 0]\n",
      "  [0 0 0 ... 0 0 0]\n",
      "  [0 0 0 ... 0 0 0]\n",
      "  ...\n",
      "  [0 0 0 ... 0 0 0]\n",
      "  [0 0 0 ... 0 0 0]\n",
      "  [0 0 0 ... 0 0 0]]\n",
      "\n",
      " [[0 0 0 ... 0 0 0]\n",
      "  [0 0 0 ... 0 0 0]\n",
      "  [0 0 0 ... 0 0 0]\n",
      "  ...\n",
      "  [0 0 0 ... 0 0 0]\n",
      "  [0 0 0 ... 0 0 0]\n",
      "  [0 0 0 ... 0 0 0]]\n",
      "\n",
      " [[0 0 0 ... 0 0 0]\n",
      "  [0 0 0 ... 0 0 0]\n",
      "  [0 0 0 ... 0 0 0]\n",
      "  ...\n",
      "  [0 0 0 ... 0 0 0]\n",
      "  [0 0 0 ... 0 0 0]\n",
      "  [0 0 0 ... 0 0 0]]\n",
      "\n",
      " ...\n",
      "\n",
      " [[0 0 0 ... 0 0 0]\n",
      "  [0 0 0 ... 0 0 0]\n",
      "  [0 0 0 ... 0 0 0]\n",
      "  ...\n",
      "  [0 0 0 ... 0 0 0]\n",
      "  [0 0 0 ... 0 0 0]\n",
      "  [0 0 0 ... 0 0 0]]\n",
      "\n",
      " [[0 0 0 ... 0 0 0]\n",
      "  [0 0 0 ... 0 0 0]\n",
      "  [0 0 0 ... 0 0 0]\n",
      "  ...\n",
      "  [0 0 0 ... 0 0 0]\n",
      "  [0 0 0 ... 0 0 0]\n",
      "  [0 0 0 ... 0 0 0]]\n",
      "\n",
      " [[0 0 0 ... 0 0 0]\n",
      "  [0 0 0 ... 0 0 0]\n",
      "  [0 0 0 ... 0 0 0]\n",
      "  ...\n",
      "  [0 0 0 ... 0 0 0]\n",
      "  [0 0 0 ... 0 0 0]\n",
      "  [0 0 0 ... 0 0 0]]]\n",
      "\n"
     ]
    }
   ],
   "source": [
    "# TEST TO SEE THE SHAPE OF THE DATA\n",
    "print(\"Lenth of y_train : {}\\n\".format(len(y_train)))\n",
    "print(\"Shape of y_train : {}\\n\".format(np.shape(y_train)))\n",
    "print(\"y_training : {}\\n\".format(y_train))\n",
    "\n",
    "print(\"Lenth of y_test : {}\\n\".format(len(y_test)))\n",
    "print(\"Shape of y_test : {}\\n\".format(np.shape(y_test)))\n",
    "print(\"y_test : {}\\n\".format(y_test))\n",
    "\n",
    "# I WANT TO SEE THE SHAPE OF PICTURES\n",
    "print(\"Lenth of x_train : {}\\n\".format(len(x_train)))\n",
    "print(\"Shape of x_train : {}\\n\".format(np.shape(x_train)))\n",
    "print(\"x_train : {}\\n\".format(x_train))\n",
    "\n",
    "print(\"Lenth of x_test : {}\\n\".format(len(x_test)))\n",
    "print(\"Shape of x_test : {}\\n\".format(np.shape(x_test)))\n",
    "print(\"x_test : {}\\n\".format(x_test))"
   ]
  },
  {
   "cell_type": "code",
   "execution_count": 9,
   "id": "f0f9b6ce",
   "metadata": {
    "pycharm": {
     "name": "#%%\n"
    }
   },
   "outputs": [
    {
     "data": {
      "image/png": "[encoded data removed]",
      "text/plain": [
       "<Figure size 720x720 with 25 Axes>"
      ]
     },
     "metadata": {},
     "output_type": "display_data"
    }
   ],
   "source": [
    "# display the first 25 training images with labels and verify that the data is in the correct formate.\n",
    "plt.figure(figsize=(10,10))# <--------------------------------------------------------------------------- UNKNOWN\n",
    "for i in range(25):# i want to plot 25 images\n",
    "    plt.subplot(5,5,i+1)# the letter \"i\" rappresent the position \n",
    "    plt.xticks([])# <------------------------------------------------------------------------------------ UNKNOWN\n",
    "    plt.yticks([])\n",
    "    plt.grid(False)# in this way i will not have the grid in on the images\n",
    "    plt.imshow(x_train[i], cmap=plt.cm.binary)# load the image and make it show black and white\n",
    "    plt.xlabel(y_train[i])# add the lable associated to that image under it\n",
    "plt.show()# show all the images"
   ]
  },
  {
   "cell_type": "code",
   "execution_count": 10,
   "id": "69c7f24b",
   "metadata": {
    "pycharm": {
     "name": "#%%\n"
    }
   },
   "outputs": [
    {
     "name": "stdout",
     "output_type": "stream",
     "text": [
      "Lenth of y_training : 12600\n",
      "\n",
      "Shape of y_training : (12600,)\n",
      "\n",
      "y_training : [-1 -1 -1 ... -1 -1 -1]\n",
      "\n",
      "Lenth of x_training : 12600\n",
      "\n",
      "Shape of x_training : (12600, 784)\n",
      "\n",
      "x_training : [[0 0 0 ... 0 0 0]\n",
      " [0 0 0 ... 0 0 0]\n",
      " [0 0 0 ... 0 0 0]\n",
      " ...\n",
      " [0 0 0 ... 0 0 0]\n",
      " [0 0 0 ... 0 0 0]\n",
      " [0 0 0 ... 0 0 0]]\n",
      "\n"
     ]
    }
   ],
   "source": [
    "# HERE I RESHAPE THE IMAGES FROM A MATRIX TO A VECTOR MANTAINING THE DATA CONTENT\n",
    "SrecchedDatasetX = np.reshape(x_train, (np.shape(x_train)[0], 784))# the dataset has 11200 elements, you have to make this part of code more general\n",
    "\n",
    "# TEST TO SEE THE SHAPE OF THE DATA\n",
    "print(\"Lenth of y_training : {}\\n\".format(len(y_train)))\n",
    "print(\"Shape of y_training : {}\\n\".format(np.shape(y_train)))\n",
    "print(\"y_training : {}\\n\".format(y_train))\n",
    "\n",
    "# I WANT TO SEE THE SHAPE OF PICTURES\n",
    "print(\"Lenth of x_training : {}\\n\".format(len(SrecchedDatasetX)))\n",
    "print(\"Shape of x_training : {}\\n\".format(np.shape(SrecchedDatasetX)))\n",
    "print(\"x_training : {}\\n\".format(SrecchedDatasetX))"
   ]
  },
  {
   "cell_type": "code",
   "execution_count": 11,
   "id": "acb9839b",
   "metadata": {
    "pycharm": {
     "name": "#%%\n"
    }
   },
   "outputs": [
    {
     "data": {
      "image/png": "[encoded data removed]",
      "text/plain": [
       "<Figure size 288x288 with 1 Axes>"
      ]
     },
     "metadata": {
      "needs_background": "light"
     },
     "output_type": "display_data"
    }
   ],
   "source": [
    "# HERE I TEST THE CONVERSION GOING BACKWARD (CHEKING IF THE IMAGE IS CORRECT)\n",
    "#print(SrecchedDatasetX[1])\n",
    "prova = np.reshape(SrecchedDatasetX[int(0)], (28, 28))# here at index you can put whatewer number you wish to see if the conversion went correctly\n",
    "plt.matshow(prova)\n",
    "plt.xlabel(y_train[0])\n",
    "plt.show()"
   ]
  },
  {
   "cell_type": "markdown",
   "id": "7472451d",
   "metadata": {
    "pycharm": {
     "name": "#%% md\n"
    }
   },
   "source": [
    "The erlier part was a preprocessing of the data, now we will use distributed gradient traking for the training of the neural network.\n",
    "-"
   ]
  },
  {
   "cell_type": "code",
   "execution_count": 12,
   "id": "90f9929d",
   "metadata": {
    "pycharm": {
     "name": "#%%\n"
    }
   },
   "outputs": [],
   "source": [
    "# example \n",
    "def adder(a: float, b: float) -> float:\n",
    "    return float(a+b)\n",
    "#type(adder(3, 5))\n",
    "\n",
    "#NNShape = np.array([784, 10, 10, 10, 1])\n",
    "#a = np.zeros(tuple(NNShape))\n",
    "#print(\"\\nshape of a: {0}\".format(np.shape(a)))"
   ]
  },
  {
   "cell_type": "code",
   "execution_count": 13,
   "id": "33e5fa1c",
   "metadata": {
    "pycharm": {
     "name": "#%%\n"
    }
   },
   "outputs": [
    {
     "name": "stderr",
     "output_type": "stream",
     "text": [
      "/tmp/ipykernel_5272/3278228246.py:21: RuntimeWarning: overflow encountered in exp\n",
      "  return 1/(1+np.exp(-xi))\n"
     ]
    },
    {
     "name": "stdout",
     "output_type": "stream",
     "text": [
      "Cost at k=0 is 0.0000\n"
     ]
    },
    {
     "ename": "NameError",
     "evalue": "name 'T' is not defined",
     "output_type": "error",
     "traceback": [
      "\u001B[0;31m---------------------------------------------------------------------------\u001B[0m",
      "\u001B[0;31mNameError\u001B[0m                                 Traceback (most recent call last)",
      "Input \u001B[0;32mIn [13]\u001B[0m, in \u001B[0;36m<cell line: 163>\u001B[0;34m()\u001B[0m\n\u001B[1;32m    167\u001B[0m \u001B[38;5;66;03m# Backward propagation\u001B[39;00m\n\u001B[1;32m    168\u001B[0m llambdaT \u001B[38;5;241m=\u001B[39m \u001B[38;5;241m2\u001B[39m\u001B[38;5;241m*\u001B[39m( xx[\u001B[38;5;241m-\u001B[39m\u001B[38;5;241m1\u001B[39m] \u001B[38;5;241m-\u001B[39m label_point[\u001B[38;5;241m0\u001B[39m]) \u001B[38;5;66;03m# xT . LambdaT = 2*(-LablePoint)\u001B[39;00m\n\u001B[0;32m--> 169\u001B[0m Delta_u \u001B[38;5;241m=\u001B[39m \u001B[43mbackward_pass\u001B[49m\u001B[43m(\u001B[49m\u001B[43mxx\u001B[49m\u001B[43m,\u001B[49m\u001B[43muu\u001B[49m\u001B[43m,\u001B[49m\u001B[43mllambdaT\u001B[49m\u001B[43m)\u001B[49m \u001B[38;5;66;03m# the gradient of the loss function \u001B[39;00m\n\u001B[1;32m    171\u001B[0m \u001B[38;5;66;03m# Update the weights\u001B[39;00m\n\u001B[1;32m    172\u001B[0m uu \u001B[38;5;241m=\u001B[39m uu \u001B[38;5;241m-\u001B[39m stepsize\u001B[38;5;241m*\u001B[39mDelta_u \u001B[38;5;66;03m# overwriting the old value\u001B[39;00m\n",
      "Input \u001B[0;32mIn [13]\u001B[0m, in \u001B[0;36mbackward_pass\u001B[0;34m(xx, uu, llambdaT)\u001B[0m\n\u001B[1;32m    115\u001B[0m \u001B[38;5;28;01mdef\u001B[39;00m \u001B[38;5;21mbackward_pass\u001B[39m(xx,uu,llambdaT):\n\u001B[1;32m    116\u001B[0m   \u001B[38;5;124;03m\"\"\"\u001B[39;00m\n\u001B[1;32m    117\u001B[0m \u001B[38;5;124;03m    input: \u001B[39;00m\n\u001B[1;32m    118\u001B[0m \u001B[38;5;124;03m              xx state trajectory: x[1],x[2],..., x[T]\u001B[39;00m\n\u001B[0;32m   (...)\u001B[0m\n\u001B[1;32m    123\u001B[0m \u001B[38;5;124;03m              delta_u costate output, i.e., the loss gradient\u001B[39;00m\n\u001B[1;32m    124\u001B[0m \u001B[38;5;124;03m  \"\"\"\u001B[39;00m\n\u001B[0;32m--> 125\u001B[0m   llambda \u001B[38;5;241m=\u001B[39m np\u001B[38;5;241m.\u001B[39mzeros((\u001B[43mT\u001B[49m,d))\n\u001B[1;32m    126\u001B[0m   llambda[\u001B[38;5;241m-\u001B[39m\u001B[38;5;241m1\u001B[39m] \u001B[38;5;241m=\u001B[39m llambdaT\n\u001B[1;32m    128\u001B[0m   Delta_u \u001B[38;5;241m=\u001B[39m np\u001B[38;5;241m.\u001B[39mzeros((T\u001B[38;5;241m-\u001B[39m\u001B[38;5;241m1\u001B[39m,d,d\u001B[38;5;241m+\u001B[39m\u001B[38;5;241m1\u001B[39m))\n",
      "\u001B[0;31mNameError\u001B[0m: name 'T' is not defined"
     ]
    }
   ],
   "source": [
    "# https://ojs.aaai.org/index.php/AAAI/article/download/7178/7032\n",
    "###############################################################################\n",
    "\n",
    "# this array rappresents the shape of our neural network\n",
    "# each i-th element of the array says how much neurons has that layer\n",
    "# the first layer has 784 neurons becouse is the layer rappresenting the vectorazed image\n",
    "# the last layer is composed by one neuron becouse it will say if the image contains the LukyNumber or not\n",
    "NNShape = np.array([784, 10, 10, 10, 1])\n",
    "\n",
    "# Training Set\n",
    "label_point = y_train # D = x0\n",
    "data_point = SrecchedDatasetX # y = xT = phi (ustar)\n",
    "\n",
    "# Gradient Method Parameters\n",
    "max_iters = 10 # epochs\n",
    "stepsize = 0.1 # learning rate\n",
    "\n",
    "###############################################################################\n",
    "# Activation Function\n",
    "def sigmoid_fn(xi: float) -> float:\n",
    "  return 1/(1+np.exp(-xi))\n",
    "\n",
    "# Derivative of Activation Function\n",
    "def sigmoid_fn_derivative(xi: float) -> float:\n",
    "  return sigmoid_fn(xi)*(1-sigmoid_fn(xi))\n",
    "\n",
    "# Calculate the output of one layer of neurons given the input of previous layer and the weiths\n",
    "def inference_dynamics(xt: np.array, ut: np.array, d: np.array, WhereIAm: int) -> np.array:\n",
    "  \"\"\"\n",
    "    input: \n",
    "              xt -> previous layer resoults\n",
    "              ut -> current layer weiths\n",
    "              d  -> array containing the number of nodes of each layer\n",
    "              WhereIAm -> integer that says which layer you have selected now\n",
    "    output: \n",
    "              xtp -> output of this layer\n",
    "  \"\"\"\n",
    "  # allocate space for the output ( input of the next layer )\n",
    "  xtp = np.zeros(d[WhereIAm+1])# here i am looking for the number of neurons of the next layer\n",
    "\n",
    "  #print(\"WhereIAm: {0}\\n\".format(WhereIAm))\n",
    "  #print(\"shape of xtp: {0}\\n\".format(np.shape(xtp)))\n",
    "  #print(\"shape of d[WhereIAm]: {0}\\n\".format(np.shape(d)))\n",
    "  #print(\"shape of xt: {0}\\n\".format(np.shape(xt)))\n",
    "  #print(\"shape of ut: {0}\\n\".format(np.shape(ut)))\n",
    "\n",
    "  #print(\"xtp: {0}\\n\".format(xtp))\n",
    "  #print(\"d[WhereIAm]: {0}\\n\".format(d[WhereIAm]))\n",
    "  #print(\"xt: {0}\\n\".format(xt))\n",
    "  #print(\"ut: {0}\\n\".format(ut))\n",
    "  for ell in range(d[WhereIAm+1]):# for each node of this layer compute those operations\n",
    "    temp = xt@ut[ell,:]# calculate the output of the neuron including the bias\n",
    "    xtp[ell] = sigmoid_fn(temp) # x' * u_ell. . Calculate the output of one neuron and put it in the next layer\n",
    "  return xtp\n",
    "\n",
    "# Calculation of layers of neurons output for each layer untill the end\n",
    "def forward_pass(uu: list, x0: np.array, d: np.array) -> list:\n",
    "  \"\"\"\n",
    "    input: \n",
    "              uu -> tensor containing all the weiths of the neural network\n",
    "              x0 -> input of neural network (in this case the vectorized image)\n",
    "              d -> array containing the number of nodes of each layer\n",
    "    output: \n",
    "              xx -> output of our neurla network\n",
    "  \"\"\"\n",
    "  # allocate the memory for the resoults of the whole neural network.\n",
    "  xx = list()# here i create a tensor of shape [784, 10, 10, 10, 1] containing only zeros\n",
    "  for i in range(0, len(d)):# i start from 1 becouse in the layer zero we ahve the vectorized image\n",
    "    xx.append(np.zeros(d[i]))\n",
    "    \n",
    "  xx[0] = x0# this is the first layer of the neural network. It has to bee the image (vector rappresenting the image)\n",
    "\n",
    "  for t in range(np.shape(d)[0]-1):\n",
    "    # calculate the resoults of the computation of the whole neural network\n",
    "    xx[t+1] = inference_dynamics(xx[t],uu[t], d, t)# i put t becouse we skip the firs layer ?\n",
    "  return xx\n",
    "  \n",
    "\n",
    "'''\n",
    "# Adjoint dynamics: \n",
    "#   state:    lambda_t = A.T lambda_tp\n",
    "#   output: deltau_t = B.T lambda_tp\n",
    "def adjoint_dynamics(ltp,xt,ut):\n",
    "  \"\"\"\n",
    "    input: \n",
    "              llambda_tp current costate\n",
    "              xt current state\n",
    "              ut current input\n",
    "    output: \n",
    "              llambda_t next costate\n",
    "              delta_ut loss gradient wrt u_t\n",
    "  \"\"\"\n",
    "  df_dx = np.zeros((d,d))\n",
    "\n",
    "  # df_du = np.zeros((d,(d+1)*d))\n",
    "  Delta_ut = np.zeros((d,d+1))\n",
    "\n",
    "  for j in range(d):\n",
    "    dsigma_j = sigmoid_fn_derivative(xt@ut[j,1:] + ut[j,0]) \n",
    "\n",
    "    df_dx[:,j] = ut[j,1:]*dsigma_j\n",
    "    # df_du[j, XX] = dsigma_j*np.hstack([1,xt])\n",
    "    \n",
    "    # B'@ltp\n",
    "    Delta_ut[j,0] = ltp[j]*dsigma_j\n",
    "    Delta_ut[j,1:] = xt*ltp[j]*dsigma_j\n",
    "  \n",
    "  lt = df_dx@ltp # A'@ltp\n",
    "  # Delta_ut = df_du@ltp\n",
    "\n",
    "  return lt, Delta_ut\n",
    "'''\n",
    "\n",
    "# Backward Propagation\n",
    "def backward_pass(xx: list,uu: list, llambdaT: float):\n",
    "  \"\"\"\n",
    "    input: \n",
    "              xx state trajectory: x[1],x[2],..., x[T]\n",
    "              uu input trajectory: u[0],u[1],..., u[T-1]\n",
    "              llambdaT terminal condition\n",
    "    output: \n",
    "              llambda costate trajectory\n",
    "              delta_u costate output, i.e., the loss gradient\n",
    "  \"\"\"\n",
    "  llambda = np.zeros((T,d))\n",
    "  llambda[-1] = llambdaT\n",
    "\n",
    "  Delta_u = np.zeros((T-1,d,d+1))\n",
    "\n",
    "  for t in reversed(range(T-1)): # T-2,T-1,...,1,0\n",
    "    llambda[t], Delta_u[t] = adjoint_dynamics(llambda[t+1],xx[t],uu[t])\n",
    "\n",
    "  return Delta_u\n",
    "\n",
    "  \n",
    "###############################################################################\n",
    "# MAIN\n",
    "###############################################################################\n",
    "\n",
    "J = np.zeros(max_iters)                       # Vector containing the evolution of the cost\n",
    "\n",
    "ListContainingWeithsTensor = list()# -> it is a list containing the matrices used for inference dynamics\n",
    "for i in range(0, len(NNShape)-1):\n",
    "    ListContainingWeithsTensor.append(np.random.randn(NNShape[i+1], NNShape[i]))\n",
    "    \n",
    "def GetTensorWeithsData(ListOfMatrices: list) -> None:\n",
    "    print(\"The lenth of the List of matrices is {0}\".format(len(ListContainingWeithsTensor)))\n",
    "    print(\"It's type is: {0}\\n\".format(type(ListContainingWeithsTensor)))\n",
    "    for i in range(0, len(ListOfMatrices)):\n",
    "        print(\"The type of {0}° element is {1}\".format(i, type(ListContainingWeithsTensor[i])))\n",
    "        print(\"While the shape is {0}\\n\".format(np.shape(ListContainingWeithsTensor[i])))\n",
    "    return None\n",
    "\n",
    "#GetTensorWeithsData(ListContainingWeithsTensor)\n",
    "                \n",
    "# Initial Weights / Initial Input Trajectory\n",
    "uu = ListContainingWeithsTensor# uu is the tensor containing all the waiths of the neural network ???\n",
    "\n",
    "# Initial State Trajectory\n",
    "xx = forward_pass(uu,data_point[0], NNShape) # T x d . we pass once the data to the to our neural network\n",
    "\n",
    "# GO!\n",
    "for k in range(max_iters):\n",
    "  if k%10 == 0:\n",
    "    print('Cost at k={:d} is {:.4f}'.format(k,J[k-1]))\n",
    "\n",
    "  # Backward propagation\n",
    "  llambdaT = 2*( xx[-1] - label_point[0]) # xT . LambdaT = 2*(-LablePoint)\n",
    "  Delta_u = backward_pass(xx,uu,llambdaT) # the gradient of the loss function \n",
    "  \n",
    "  # Update the weights\n",
    "  uu = uu - stepsize*Delta_u # overwriting the old value\n",
    "  \n",
    "  # Forward propagation\n",
    "  xx = forward_pass(uu, data_point[0], NNShape)# <------------------------------------------------------ OK\n",
    "  \n",
    "  # Store the Loss Value across Iterations\n",
    "  # here he compute the squere of the error, (value of the last node minus the lable)^2\n",
    "  # xx[-1] is the last value of the node of the neural network\n",
    "  J[k] = (xx[-1] - label_point[0])@(xx[-1] - label_point[0]) # it is the cost at k+1. <----------------- OK\n",
    "  # np.linalg.norm( xx[-1,:] - label_point[0] )**2\n",
    "\n",
    "_,ax = plt.subplots()\n",
    "ax.plot(range(max_iters),J)\n",
    "plt.show()"
   ]
  },
  {
   "cell_type": "code",
   "execution_count": null,
   "id": "b8ad1c50",
   "metadata": {
    "pycharm": {
     "name": "#%%\n"
    }
   },
   "outputs": [],
   "source": [
    "print(len(xx))\n",
    "#plt.matshow(np.reshape(xx[0], (28, 28)))\n",
    "#plt.matshow(np.reshape(xx[1], (np.shape(xx[1])/2, 2)))\n",
    "#plt.show()\n",
    "print(xx[4])\n",
    "print(xx[-1])"
   ]
  },
  {
   "cell_type": "code",
   "execution_count": null,
   "id": "27fc43ef",
   "metadata": {
    "pycharm": {
     "name": "#%%\n"
    }
   },
   "outputs": [],
   "source": [
    "xt = np.array([0.77687937, 0.08063935, 0.01138057, 0.122775, 0.45234997, 0.31188696, 0.90724203, 0.56045335, 0.77011777, 0.47297238])\n",
    "ut = np.array([3.5497876, 0.80632542, 0.42563381, 1.14425937, -0.30383338, -1.75322509, 0.22340017, -0.55091153, 0.57918906, -1.25920521])\n",
    "resoult = xt@ut\n",
    "resoult = sigmoid_fn(resoult)\n",
    "print(resoult)"
   ]
  },
  {
   "cell_type": "code",
   "execution_count": null,
   "id": "affd82cb",
   "metadata": {
    "pycharm": {
     "name": "#%%\n"
    }
   },
   "outputs": [],
   "source": []
  },
  {
   "cell_type": "code",
   "execution_count": null,
   "id": "f10362dd",
   "metadata": {
    "pycharm": {
     "name": "#%%\n"
    }
   },
   "outputs": [],
   "source": []
  },
  {
   "cell_type": "code",
   "execution_count": null,
   "id": "d6972fcf",
   "metadata": {
    "pycharm": {
     "name": "#%%\n"
    }
   },
   "outputs": [],
   "source": []
  },
  {
   "cell_type": "code",
   "execution_count": null,
   "id": "9b8cb165",
   "metadata": {
    "pycharm": {
     "name": "#%%\n"
    }
   },
   "outputs": [],
   "source": []
  },
  {
   "cell_type": "code",
   "execution_count": null,
   "id": "b536e9e1",
   "metadata": {
    "pycharm": {
     "name": "#%%\n"
    }
   },
   "outputs": [],
   "source": []
  },
  {
   "cell_type": "code",
   "execution_count": null,
   "id": "4a54b9bf",
   "metadata": {
    "pycharm": {
     "name": "#%%\n"
    }
   },
   "outputs": [],
   "source": []
  },
  {
   "cell_type": "code",
   "execution_count": null,
   "id": "59dde5a2",
   "metadata": {
    "pycharm": {
     "name": "#%%\n"
    }
   },
   "outputs": [],
   "source": [
    "plt.matshow(x_train[99])# i wanted to see the 100 image \n",
    "plt.colorbar()# i want to have the gradueted bar with colors\n",
    "plt.grid(False)# i dont want to have a grid on the image\n",
    "plt.xlabel(y_train[99])# write the number on the photo on x axis\n",
    "plt.show()# show the image"
   ]
  },
  {
   "cell_type": "code",
   "execution_count": null,
   "id": "871a9f9b",
   "metadata": {
    "pycharm": {
     "name": "#%%\n"
    }
   },
   "outputs": [],
   "source": [
    "x_train = x_train/255# used for scaling of the numbers rappresenting the color of the image\n",
    "# its a good practice becouse otherwise we will operete with very large numbers and this will\n",
    "# give us problems ( overflow )"
   ]
  },
  {
   "cell_type": "code",
   "execution_count": null,
   "id": "d27ed547",
   "metadata": {
    "pycharm": {
     "name": "#%%\n"
    }
   },
   "outputs": [],
   "source": [
    "# same thing as above ( just to see if the conversion were done correctly )\n",
    "plt.matshow(x_train[99])\n",
    "plt.colorbar()\n",
    "plt.grid(False)\n",
    "plt.xlabel(y_train[99])\n",
    "plt.show()"
   ]
  },
  {
   "cell_type": "code",
   "execution_count": null,
   "id": "6ea8e6f0",
   "metadata": {
    "pycharm": {
     "name": "#%%\n"
    }
   },
   "outputs": [],
   "source": [
    "# display the first 25 training images with labels and verify that the data is in the correct formate.\n",
    "plt.figure(figsize=(10,10))# <--------------------------------------------------------------------------- UNKNOWN\n",
    "for i in range(25):# i want to plot 25 images\n",
    "    plt.subplot(5,5,i+1)# the letter \"i\" rappresent the position \n",
    "    plt.xticks([])# <------------------------------------------------------------------------------------ UNKNOWN\n",
    "    plt.yticks([])\n",
    "    plt.grid(False)# in this way i will not have the grid in on the images\n",
    "    plt.imshow(x_train[i], cmap=plt.cm.binary)# load the image and make it show black and white\n",
    "    plt.xlabel(y_train[i])# add the lable associated to that image under it\n",
    "plt.show()# show all the images"
   ]
  },
  {
   "cell_type": "code",
   "execution_count": null,
   "id": "c08e406d",
   "metadata": {
    "pycharm": {
     "name": "#%%\n"
    }
   },
   "outputs": [],
   "source": [
    "# Creation of the structure of neural network\n",
    "# (i dont know which activation function is the best for this problem same for the inner and last layer dimensions)\n",
    "model = keras.Sequential([\n",
    "    keras.layers.Flatten(input_shape=(28, 28)), # this layer will convert two dimetional (2d) array (image of 28x28 pixels) in to a one dimentional array of 28*28 = 784pixels.\n",
    "    keras.layers.Dense(10, activation=tf.nn.softmax)# last layer has 10 neurons, with softmax as activation function\n",
    "])"
   ]
  },
  {
   "cell_type": "code",
   "execution_count": null,
   "id": "06849e09",
   "metadata": {
    "pycharm": {
     "name": "#%%\n"
    }
   },
   "outputs": [],
   "source": [
    "# Configuration of neural network \n",
    "model.compile(optimizer='adam',# we have seen it duering the lessosn\n",
    "             loss='sparse_categorical_crossentropy',# <---------------------------------------------------- UNKNOWN\n",
    "             metrics=['accuracy'])# <---------------------------------------------------------------------- UNKNOWN"
   ]
  },
  {
   "cell_type": "code",
   "execution_count": null,
   "id": "90907093",
   "metadata": {
    "pycharm": {
     "name": "#%%\n"
    }
   },
   "outputs": [],
   "source": [
    "\n",
    "#from ann_visualizer.visualize import ann_viz;\n",
    "\n",
    "#ann_viz(model, title=\"My first neural network\")\n",
    "\n",
    "#visualizer(model, format='png', view=True)# this give us an error\n",
    "#plot_model(model, to_file='model.png')\n",
    "\n"
   ]
  },
  {
   "cell_type": "code",
   "execution_count": null,
   "id": "ad477e92",
   "metadata": {
    "pycharm": {
     "name": "#%%\n"
    }
   },
   "outputs": [],
   "source": [
    "# training of the model \n",
    "model.fit(x_train, y_train, epochs=1)# we do the training for only one epoch"
   ]
  },
  {
   "cell_type": "code",
   "execution_count": null,
   "id": "7ad8bfcf",
   "metadata": {
    "pycharm": {
     "name": "#%%\n"
    }
   },
   "outputs": [],
   "source": [
    "# Evaluate accuracy\n",
    "test_loss, test_acc = model.evaluate(x_test, y_test)# test the model on our test set\n",
    "print('test accuracy:{0}\\ntest loss:{1}'.format(test_acc, test_loss))"
   ]
  },
  {
   "cell_type": "code",
   "execution_count": null,
   "id": "c1deee89",
   "metadata": {
    "pycharm": {
     "name": "#%%\n"
    }
   },
   "outputs": [],
   "source": [
    "\n",
    "for layer in model.layers: print(layer.get_config(), layer.get_weights())\n",
    "    "
   ]
  },
  {
   "cell_type": "code",
   "execution_count": null,
   "id": "775c7e06",
   "metadata": {
    "pycharm": {
     "name": "#%%\n"
    }
   },
   "outputs": [],
   "source": [
    "\n",
    "print(\"Number of layers: {0}\".format(len(layer.get_weights())))\n",
    "print(\"First layer shape: {0}\".format(np.shape(layer.get_weights()[0])))\n",
    "#print(\"Second layer shape: {0}\".format(np.shape(layer.get_weights()[1])))\n"
   ]
  },
  {
   "cell_type": "code",
   "execution_count": null,
   "id": "4eff0848",
   "metadata": {
    "pycharm": {
     "name": "#%%\n"
    }
   },
   "outputs": [],
   "source": [
    "# Prediction for single images\n",
    "\n",
    "# we know that y_test[kk] image is something, we want to see if our neural networck predict it correctly\n",
    "kk = 9# image number in the training set thet we want to check\n",
    "img = x_test[kk]\n",
    "# print(img.shape)  # shape (28, 28)\n",
    "\n",
    "# tf.keras model are optimized to make predictions for batch or collection of test data at once. So we need to add it to a list:\n",
    "img_list = np.expand_dims(img,0)\n",
    "# print(img_list)   # shape (1, 28, 28)\n",
    "\n",
    "predictions_single = model.predict(img_list)# performe the prediction\n",
    "\n",
    "plt.matshow(x_test[kk])\n",
    "plt.colorbar()\n",
    "plt.grid(False)\n",
    "plt.xlabel(\"The lable is: {0}\\nwhile the predicted value is:{1}\".format(y_test[kk], np.argmax(predictions_single)))\n",
    "plt.show()"
   ]
  },
  {
   "cell_type": "code",
   "execution_count": null,
   "id": "855d10dd",
   "metadata": {
    "pycharm": {
     "name": "#%%\n"
    }
   },
   "outputs": [],
   "source": []
  },
  {
   "cell_type": "code",
   "execution_count": null,
   "id": "89671bd1",
   "metadata": {
    "pycharm": {
     "name": "#%%\n"
    }
   },
   "outputs": [],
   "source": []
  },
  {
   "cell_type": "code",
   "execution_count": null,
   "id": "c804ee67",
   "metadata": {
    "pycharm": {
     "name": "#%%\n"
    }
   },
   "outputs": [],
   "source": []
  }
 ],
 "metadata": {
  "interpreter": {
   "hash": "f27aba7de901f0b43cdce99199f8eab57e9e4bade0b8eaa2447270c05eeb2dce"
  },
  "kernelspec": {
   "display_name": "Python 3 (ipykernel)",
   "language": "python",
   "name": "python3"
  },
  "language_info": {
   "codemirror_mode": {
    "name": "ipython",
    "version": 3
   },
   "file_extension": ".py",
   "mimetype": "text/x-python",
   "name": "python",
   "nbconvert_exporter": "python",
   "pygments_lexer": "ipython3",
   "version": "3.8.10"
  }
 },
 "nbformat": 4,
 "nbformat_minor": 5
}