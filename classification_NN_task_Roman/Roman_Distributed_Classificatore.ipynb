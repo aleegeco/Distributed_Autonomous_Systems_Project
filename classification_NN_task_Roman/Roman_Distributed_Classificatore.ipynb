{
 "cells": [
  {
   "cell_type": "code",
   "execution_count": 1,
   "id": "3ede3818",
   "metadata": {
    "pycharm": {
     "name": "#%%\n"
    }
   },
   "outputs": [
    {
     "name": "stderr",
     "output_type": "stream",
     "text": [
      "2022-05-05 02:08:31.965737: W tensorflow/stream_executor/platform/default/dso_loader.cc:64] Could not load dynamic library 'libcudart.so.11.0'; dlerror: libcudart.so.11.0: cannot open shared object file: No such file or directory\n",
      "2022-05-05 02:08:31.965774: I tensorflow/stream_executor/cuda/cudart_stub.cc:29] Ignore above cudart dlerror if you do not have a GPU set up on your machine.\n"
     ]
    }
   ],
   "source": [
    "from __future__ import absolute_import, division, print_function# need to undestend their utility <-------- UNKNOWN\n",
    "import tensorflow as tf\n",
    "import keras# dont import keras ftom tensorflow library otherwise the code below will fail\n",
    "from sklearn.model_selection import train_test_split\n",
    "import numpy as np\n",
    "import matplotlib.pyplot as plt# this library will be used for data visualization\n",
    "#print(dir(mnist))# i use this command to see all the methods of this class\n",
    "#help(mnist)# return the documentation of the dataset\n",
    "\n",
    "TestSize = 0.2# size of the test set\n",
    "\n",
    "percent = 0.2# percentage of data we want to give to our system from all the data aveilable\n",
    "# we start to take them from the start of the dataset , one after one)\n",
    "\n",
    "LukyNumber = 4# the number that in this session will be associated to 1 while the others will be set to 0\n",
    "# (we set all the other numbers to zero becouse otherwise the neural network behave incorrectly with thos libraries)"
   ]
  },
  {
   "cell_type": "code",
   "execution_count": 2,
   "id": "060d4704",
   "metadata": {
    "pycharm": {
     "name": "#%%\n"
    }
   },
   "outputs": [],
   "source": [
    "(x_train, y_train), (x_test, y_test) = keras.datasets.mnist.load_data()\n",
    "# import the dataset \"mnist\" that contains all the images of the numbers\n",
    "# and relatives lables an then assine all those data to two sets ( training set and test set )"
   ]
  },
  {
   "cell_type": "code",
   "execution_count": 3,
   "id": "248c7c9d",
   "metadata": {
    "pycharm": {
     "name": "#%%\n"
    }
   },
   "outputs": [
    {
     "name": "stdout",
     "output_type": "stream",
     "text": [
      "<class 'numpy.ndarray'>\n",
      "60000\n",
      "(60000, 28, 28)\n",
      "<class 'numpy.ndarray'>\n",
      "10000\n",
      "(10000, 28, 28)\n"
     ]
    }
   ],
   "source": [
    "# I want to see some information about my data and they format\n",
    "print(type(x_train))# return the typology of our data set of images\n",
    "print(len(x_train))# retunr the lenth of the data set ( how much images we have )\n",
    "print(np.shape(x_train))# return the shape of the data set, in our case we have the\n",
    "# lenth and then the dimensions of the images\n",
    "\n",
    "print(type(x_test))# return the typology of our training set of images\n",
    "print(len(x_test))# retunr the lenth of the training set ( how much images we have )\n",
    "print(np.shape(x_test))# return the shape of the training set, in our case we have the\n",
    "# lenth and then the dimensions of the images\n",
    "\n",
    "#print(dir(np))\n",
    "#print(help(np.concatenate))"
   ]
  },
  {
   "cell_type": "code",
   "execution_count": 4,
   "id": "f8ee9fb9",
   "metadata": {
    "pycharm": {
     "name": "#%%\n"
    }
   },
   "outputs": [
    {
     "name": "stdout",
     "output_type": "stream",
     "text": [
      "Shape of x_total_temp: (70000, 28, 28)\n",
      "Shape of x_total reduced to 0.2: (14000, 28, 28)\n",
      "Shape of y_total_temp: (70000,)\n",
      "Shape of y_total reduced to 0.2: (14000,)\n"
     ]
    }
   ],
   "source": [
    "'''                             I HAVE TO CHECK IF THIS PART OF THE CODE IS CORRECT                            '''\n",
    "\n",
    "#                                    Reduction of the dataset dimension\n",
    "\n",
    "x_total_temp = np.append(x_train, x_test, axis=0)# CHECK IF THE PARTS ARE APPENDED CORRECTLY <------------- WARNING\n",
    "print(\"Shape of x_total_temp: {0}\".format(np.shape(x_total_temp)))\n",
    "\n",
    "x_total = x_total_temp[0: int(np.shape(x_total_temp)[0]*percent)]\n",
    "print(\"Shape of x_total reduced to {1}: {0}\".format(np.shape(x_total), percent))\n",
    "\n",
    "y_total_temp = np.append(y_train, y_test, axis=0)# CHECK IF THE PARTS ARE APPENDED CORRECTLY <------------- WARNING\n",
    "print(\"Shape of y_total_temp: {0}\".format(np.shape(y_total_temp)))\n",
    "\n",
    "y_total = y_total_temp[0: int(np.shape(y_total_temp)[0]*percent)]\n",
    "print(\"Shape of y_total reduced to {1}: {0}\".format(np.shape(y_total), percent))"
   ]
  },
  {
   "cell_type": "code",
   "execution_count": 5,
   "id": "429bfe16",
   "metadata": {
    "pycharm": {
     "name": "#%%\n"
    }
   },
   "outputs": [],
   "source": [
    "\"\"\"                                       THE ERROR COULD BE HERE                                                \"\"\"\n",
    "# Redistribution of the data in two sets ( test and train)\n",
    "x_train, x_test, y_train, y_test = train_test_split(x_total, y_total, test_size=TestSize)"
   ]
  },
  {
   "cell_type": "code",
   "execution_count": 6,
   "id": "672f5a2d",
   "metadata": {
    "pycharm": {
     "name": "#%%\n"
    }
   },
   "outputs": [],
   "source": [
    "\"\"\"                                       THE ERROR COULD BE HERE                                                \"\"\"\n",
    "#                                     Assignment of values [1, -1]\n",
    "\n",
    "# REWRITE THE CODE BECAUSE IT ISNT EFFISCENT ENOUGH (nested for loops or something else)\n",
    "\n",
    "for i in range(0, np.shape(y_train)[0]):# <-------------------------------------------------- WARNING (use iterator)\n",
    "    if y_train[i] == LukyNumber:\n",
    "        pass\n",
    "    else:\n",
    "        y_train[i] = 0\n",
    "        \n",
    "for i in range(0, np.shape(y_test)[0]):# <-------------------------------------------------- WARNING (use iterator)\n",
    "    if y_test[i] == LukyNumber:\n",
    "        pass\n",
    "    else:\n",
    "        y_test[i] = 0"
   ]
  },
  {
   "cell_type": "code",
   "execution_count": 7,
   "id": "6db5d945",
   "metadata": {
    "pycharm": {
     "name": "#%%\n"
    }
   },
   "outputs": [
    {
     "name": "stdout",
     "output_type": "stream",
     "text": [
      "11200\n",
      "(11200,)\n",
      "[0 0 0 ... 0 0 0]\n"
     ]
    }
   ],
   "source": [
    "# TEST TO SEE WHAT IS HAPPENING \n",
    "print(len(y_train))\n",
    "print(np.shape(y_train))\n",
    "print(y_train)"
   ]
  },
  {
   "cell_type": "code",
   "execution_count": 8,
   "id": "59dde5a2",
   "metadata": {
    "pycharm": {
     "name": "#%%\n"
    }
   },
   "outputs": [
    {
     "data": {
      "image/png": "[encoded data removed]",
      "text/plain": [
       "<Figure size 288x288 with 2 Axes>"
      ]
     },
     "metadata": {
      "needs_background": "light"
     },
     "output_type": "display_data"
    }
   ],
   "source": [
    "plt.matshow(x_train[99])# i wanted to see the 100 image \n",
    "plt.colorbar()# i want to have the gradueted bar with colors\n",
    "plt.grid(False)# i dont want to have a grid on the image\n",
    "plt.xlabel(y_train[99])# write the number on the photo on x axis\n",
    "plt.show()# show the image"
   ]
  },
  {
   "cell_type": "code",
   "execution_count": 9,
   "id": "871a9f9b",
   "metadata": {
    "pycharm": {
     "name": "#%%\n"
    }
   },
   "outputs": [],
   "source": [
    "x_train = x_train/255# used for scaling of the numbers rappresenting the color of the image\n",
    "# its a good practice becouse otherwise we will operete with very large numbers and this will\n",
    "# give us problems ( overflow )"
   ]
  },
  {
   "cell_type": "code",
   "execution_count": 10,
   "id": "d27ed547",
   "metadata": {
    "pycharm": {
     "name": "#%%\n"
    }
   },
   "outputs": [
    {
     "data": {
      "image/png": "[encoded data removed]",
      "text/plain": [
       "<Figure size 288x288 with 2 Axes>"
      ]
     },
     "metadata": {
      "needs_background": "light"
     },
     "output_type": "display_data"
    }
   ],
   "source": [
    "# same thing as above ( just to see if the conversion were done correctly )\n",
    "plt.matshow(x_train[99])\n",
    "plt.colorbar()\n",
    "plt.grid(False)\n",
    "plt.xlabel(y_train[99])\n",
    "plt.show()"
   ]
  },
  {
   "cell_type": "code",
   "execution_count": 11,
   "id": "6ea8e6f0",
   "metadata": {
    "pycharm": {
     "name": "#%%\n"
    }
   },
   "outputs": [
    {
     "data": {
      "image/png": "[encoded data removed]",
      "text/plain": [
       "<Figure size 720x720 with 25 Axes>"
      ]
     },
     "metadata": {},
     "output_type": "display_data"
    }
   ],
   "source": [
    "# display the first 25 training images with labels and verify that the data is in the correct formate.\n",
    "plt.figure(figsize=(10,10))# <--------------------------------------------------------------------------- UNKNOWN\n",
    "for i in range(25):# i want to plot 25 images\n",
    "    plt.subplot(5,5,i+1)# the letter \"i\" rappresent the position \n",
    "    plt.xticks([])# <------------------------------------------------------------------------------------ UNKNOWN\n",
    "    plt.yticks([])\n",
    "    plt.grid(False)# in this way i will not have the grid in on the images\n",
    "    plt.imshow(x_train[i], cmap=plt.cm.binary)# load the image and make it show black and white\n",
    "    plt.xlabel(y_train[i])# add the lable associated to that image under it\n",
    "plt.show()# show all the images"
   ]
  },
  {
   "cell_type": "code",
   "execution_count": 12,
   "id": "c08e406d",
   "metadata": {
    "pycharm": {
     "name": "#%%\n"
    }
   },
   "outputs": [
    {
     "name": "stderr",
     "output_type": "stream",
     "text": [
      "2022-05-05 02:08:38.199151: W tensorflow/stream_executor/platform/default/dso_loader.cc:64] Could not load dynamic library 'libcuda.so.1'; dlerror: libcuda.so.1: cannot open shared object file: No such file or directory\n",
      "2022-05-05 02:08:38.199188: W tensorflow/stream_executor/cuda/cuda_driver.cc:269] failed call to cuInit: UNKNOWN ERROR (303)\n",
      "2022-05-05 02:08:38.199212: I tensorflow/stream_executor/cuda/cuda_diagnostics.cc:156] kernel driver does not appear to be running on this host (roman-VirtualBox): /proc/driver/nvidia/version does not exist\n"
     ]
    }
   ],
   "source": [
    "# Creation of the structure of neural network\n",
    "# (i dont know which activation function is the best for this problem same for the inner and last layer dimensions)\n",
    "model = keras.Sequential([\n",
    "    keras.layers.Flatten(input_shape=(28,28)), # this layer will convert two dimetional (2d) array (image of 28x28 pixels) in to a one dimentional array of 28*28 = 784pixels.\n",
    "    keras.layers.Dense(40, activation=tf.nn.relu),# second layer has 128 neurons, with relu as activation function\n",
    "    keras.layers.Dense(10, activation=tf.nn.softmax)# last layer has 10 neurons, with softmax as activation function\n",
    "])"
   ]
  },
  {
   "cell_type": "code",
   "execution_count": 13,
   "id": "06849e09",
   "metadata": {
    "pycharm": {
     "name": "#%%\n"
    }
   },
   "outputs": [],
   "source": [
    "# Configuration of neural network \n",
    "model.compile(optimizer='adam',# we have seen it duering the lessosn\n",
    "             loss='sparse_categorical_crossentropy',# <---------------------------------------------------- UNKNOWN\n",
    "             metrics=['accuracy'])# <---------------------------------------------------------------------- UNKNOWN"
   ]
  },
  {
   "cell_type": "code",
   "execution_count": 14,
   "id": "ad477e92",
   "metadata": {
    "pycharm": {
     "name": "#%%\n"
    }
   },
   "outputs": [
    {
     "name": "stdout",
     "output_type": "stream",
     "text": [
      "350/350 [==============================] - 2s 4ms/step - loss: 0.1559 - accuracy: 0.9579\n"
     ]
    },
    {
     "data": {
      "text/plain": [
       "<keras.callbacks.History at 0x7ff56dd1d220>"
      ]
     },
     "execution_count": 14,
     "metadata": {},
     "output_type": "execute_result"
    }
   ],
   "source": [
    "# training of the model \n",
    "model.fit(x_train, y_train, epochs=1)# we do the training for only one epoch"
   ]
  },
  {
   "cell_type": "code",
   "execution_count": 15,
   "id": "7ad8bfcf",
   "metadata": {
    "pycharm": {
     "name": "#%%\n"
    }
   },
   "outputs": [
    {
     "name": "stdout",
     "output_type": "stream",
     "text": [
      "88/88 [==============================] - 1s 3ms/step - loss: 7.1508 - accuracy: 0.9836\n",
      "test accuracy:0.9835714101791382\n",
      "test loss:7.150753498077393\n"
     ]
    }
   ],
   "source": [
    "# Evaluate accuracy\n",
    "test_loss, test_acc = model.evaluate(x_test, y_test)# test the model on our test set\n",
    "print('test accuracy:{0}\\ntest loss:{1}'.format(test_acc, test_loss))"
   ]
  },
  {
   "cell_type": "code",
   "execution_count": 16,
   "id": "4eff0848",
   "metadata": {
    "pycharm": {
     "name": "#%%\n"
    }
   },
   "outputs": [
    {
     "name": "stdout",
     "output_type": "stream",
     "text": [
      "1/1 [==============================] - 0s 105ms/step\n"
     ]
    },
    {
     "data": {
      "image/png": "[encoded data removed]",
      "text/plain": [
       "<Figure size 288x288 with 2 Axes>"
      ]
     },
     "metadata": {
      "needs_background": "light"
     },
     "output_type": "display_data"
    }
   ],
   "source": [
    "# Prediction for single images\n",
    "\n",
    "# we know that y_test[kk] image is something, we want to see if our neural networck predict it correctly\n",
    "kk = 9# image number in the training set thet we want to check\n",
    "img = x_test[kk]\n",
    "# print(img.shape)  # shape (28, 28)\n",
    "\n",
    "# tf.keras model are optimized to make predictions for batch or collection of test data at once. So we need to add it to a list:\n",
    "img_list = np.expand_dims(img,0)\n",
    "# print(img_list)   # shape (1, 28, 28)\n",
    "\n",
    "predictions_single = model.predict(img_list)# performe the prediction\n",
    "\n",
    "plt.matshow(x_test[kk])\n",
    "plt.colorbar()\n",
    "plt.grid(False)\n",
    "plt.xlabel(\"The lable is: {0}\\nwhile the predicted value is:{1}\".format(y_test[kk], np.argmax(predictions_single)))\n",
    "plt.show()"
   ]
  },
  {
   "cell_type": "code",
   "execution_count": 17,
   "id": "855d10dd",
   "metadata": {
    "pycharm": {
     "name": "#%%\n"
    }
   },
   "outputs": [
    {
     "data": {
      "text/plain": [
       "'                                  NOT RELLEVANT PART FOR OUR EXPERIMENT\\n#Usually the accuracy in the training set is greater than in the test set, this phenomenon is called overfitting.\\n\\n# Make Predictions\\npredictions = model.predict(x_train)\\n\\npredictions[0]              # this will print an array of 10 value that show the confidence of the model\\n\\nnp.argmax(predictions[0])   # this will print the label having the highest confidence value.\\n'"
      ]
     },
     "execution_count": 17,
     "metadata": {},
     "output_type": "execute_result"
    }
   ],
   "source": [
    "\"\"\"                                  NOT RELLEVANT PART FOR OUR EXPERIMENT\n",
    "#Usually the accuracy in the training set is greater than in the test set, this phenomenon is called overfitting.\n",
    "\n",
    "# Make Predictions\n",
    "predictions = model.predict(x_train)\n",
    "\n",
    "predictions[0]              # this will print an array of 10 value that show the confidence of the model\n",
    "\n",
    "np.argmax(predictions[0])   # this will print the label having the highest confidence value.\n",
    "\"\"\""
   ]
  },
  {
   "cell_type": "code",
   "execution_count": null,
   "id": "b4631144",
   "metadata": {
    "pycharm": {
     "name": "#%%\n"
    }
   },
   "outputs": [],
   "source": []
  }
 ],
 "metadata": {
  "kernelspec": {
   "display_name": "Python 3.8.10 64-bit",
   "language": "python",
   "name": "python3810jvsc74a57bd031f2aee4e71d21fbe5cf8b01ff0e069b9275f58929596ceb00d14d90e3e16cd6"
  },
  "language_info": {
   "codemirror_mode": {
    "name": "ipython",
    "version": 3
   },
   "file_extension": ".py",
   "mimetype": "text/x-python",
   "name": "python",
   "nbconvert_exporter": "python",
   "pygments_lexer": "ipython3",
   "version": "3.8.10"
  }
 },
 "nbformat": 4,
 "nbformat_minor": 5
}